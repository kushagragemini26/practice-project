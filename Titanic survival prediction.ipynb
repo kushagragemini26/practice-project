{
 "cells": [
  {
   "cell_type": "code",
   "execution_count": 123,
   "id": "33f269e1",
   "metadata": {},
   "outputs": [],
   "source": [
    "#importing the libraries\n",
    "import pandas as pd\n",
    "import numpy as np\n",
    "import seaborn as sns\n",
    "import matplotlib.pyplot as plt\n",
    "import warnings\n",
    "warnings.filterwarnings('ignore')"
   ]
  },
  {
   "cell_type": "code",
   "execution_count": 124,
   "id": "59a334e9",
   "metadata": {},
   "outputs": [],
   "source": [
    "#read the data from csv file\n",
    "titanic =pd.read_csv('Titanic_Train.csv')"
   ]
  },
  {
   "cell_type": "code",
   "execution_count": 125,
   "id": "9ab6da22",
   "metadata": {},
   "outputs": [
    {
     "data": {
      "text/html": [
       "<div>\n",
       "<style scoped>\n",
       "    .dataframe tbody tr th:only-of-type {\n",
       "        vertical-align: middle;\n",
       "    }\n",
       "\n",
       "    .dataframe tbody tr th {\n",
       "        vertical-align: top;\n",
       "    }\n",
       "\n",
       "    .dataframe thead th {\n",
       "        text-align: right;\n",
       "    }\n",
       "</style>\n",
       "<table border=\"1\" class=\"dataframe\">\n",
       "  <thead>\n",
       "    <tr style=\"text-align: right;\">\n",
       "      <th></th>\n",
       "      <th>PassengerId</th>\n",
       "      <th>Survived</th>\n",
       "      <th>Pclass</th>\n",
       "      <th>Name</th>\n",
       "      <th>Sex</th>\n",
       "      <th>Age</th>\n",
       "      <th>SibSp</th>\n",
       "      <th>Parch</th>\n",
       "      <th>Ticket</th>\n",
       "      <th>Fare</th>\n",
       "      <th>Cabin</th>\n",
       "      <th>Embarked</th>\n",
       "    </tr>\n",
       "  </thead>\n",
       "  <tbody>\n",
       "    <tr>\n",
       "      <th>0</th>\n",
       "      <td>1</td>\n",
       "      <td>0</td>\n",
       "      <td>3</td>\n",
       "      <td>Braund, Mr. Owen Harris</td>\n",
       "      <td>male</td>\n",
       "      <td>22.0</td>\n",
       "      <td>1</td>\n",
       "      <td>0</td>\n",
       "      <td>A/5 21171</td>\n",
       "      <td>7.2500</td>\n",
       "      <td>NaN</td>\n",
       "      <td>S</td>\n",
       "    </tr>\n",
       "    <tr>\n",
       "      <th>1</th>\n",
       "      <td>2</td>\n",
       "      <td>1</td>\n",
       "      <td>1</td>\n",
       "      <td>Cumings, Mrs. John Bradley (Florence Briggs Th...</td>\n",
       "      <td>female</td>\n",
       "      <td>38.0</td>\n",
       "      <td>1</td>\n",
       "      <td>0</td>\n",
       "      <td>PC 17599</td>\n",
       "      <td>71.2833</td>\n",
       "      <td>C85</td>\n",
       "      <td>C</td>\n",
       "    </tr>\n",
       "    <tr>\n",
       "      <th>2</th>\n",
       "      <td>3</td>\n",
       "      <td>1</td>\n",
       "      <td>3</td>\n",
       "      <td>Heikkinen, Miss. Laina</td>\n",
       "      <td>female</td>\n",
       "      <td>26.0</td>\n",
       "      <td>0</td>\n",
       "      <td>0</td>\n",
       "      <td>STON/O2. 3101282</td>\n",
       "      <td>7.9250</td>\n",
       "      <td>NaN</td>\n",
       "      <td>S</td>\n",
       "    </tr>\n",
       "    <tr>\n",
       "      <th>3</th>\n",
       "      <td>4</td>\n",
       "      <td>1</td>\n",
       "      <td>1</td>\n",
       "      <td>Futrelle, Mrs. Jacques Heath (Lily May Peel)</td>\n",
       "      <td>female</td>\n",
       "      <td>35.0</td>\n",
       "      <td>1</td>\n",
       "      <td>0</td>\n",
       "      <td>113803</td>\n",
       "      <td>53.1000</td>\n",
       "      <td>C123</td>\n",
       "      <td>S</td>\n",
       "    </tr>\n",
       "    <tr>\n",
       "      <th>4</th>\n",
       "      <td>5</td>\n",
       "      <td>0</td>\n",
       "      <td>3</td>\n",
       "      <td>Allen, Mr. William Henry</td>\n",
       "      <td>male</td>\n",
       "      <td>35.0</td>\n",
       "      <td>0</td>\n",
       "      <td>0</td>\n",
       "      <td>373450</td>\n",
       "      <td>8.0500</td>\n",
       "      <td>NaN</td>\n",
       "      <td>S</td>\n",
       "    </tr>\n",
       "    <tr>\n",
       "      <th>...</th>\n",
       "      <td>...</td>\n",
       "      <td>...</td>\n",
       "      <td>...</td>\n",
       "      <td>...</td>\n",
       "      <td>...</td>\n",
       "      <td>...</td>\n",
       "      <td>...</td>\n",
       "      <td>...</td>\n",
       "      <td>...</td>\n",
       "      <td>...</td>\n",
       "      <td>...</td>\n",
       "      <td>...</td>\n",
       "    </tr>\n",
       "    <tr>\n",
       "      <th>886</th>\n",
       "      <td>887</td>\n",
       "      <td>0</td>\n",
       "      <td>2</td>\n",
       "      <td>Montvila, Rev. Juozas</td>\n",
       "      <td>male</td>\n",
       "      <td>27.0</td>\n",
       "      <td>0</td>\n",
       "      <td>0</td>\n",
       "      <td>211536</td>\n",
       "      <td>13.0000</td>\n",
       "      <td>NaN</td>\n",
       "      <td>S</td>\n",
       "    </tr>\n",
       "    <tr>\n",
       "      <th>887</th>\n",
       "      <td>888</td>\n",
       "      <td>1</td>\n",
       "      <td>1</td>\n",
       "      <td>Graham, Miss. Margaret Edith</td>\n",
       "      <td>female</td>\n",
       "      <td>19.0</td>\n",
       "      <td>0</td>\n",
       "      <td>0</td>\n",
       "      <td>112053</td>\n",
       "      <td>30.0000</td>\n",
       "      <td>B42</td>\n",
       "      <td>S</td>\n",
       "    </tr>\n",
       "    <tr>\n",
       "      <th>888</th>\n",
       "      <td>889</td>\n",
       "      <td>0</td>\n",
       "      <td>3</td>\n",
       "      <td>Johnston, Miss. Catherine Helen \"Carrie\"</td>\n",
       "      <td>female</td>\n",
       "      <td>NaN</td>\n",
       "      <td>1</td>\n",
       "      <td>2</td>\n",
       "      <td>W./C. 6607</td>\n",
       "      <td>23.4500</td>\n",
       "      <td>NaN</td>\n",
       "      <td>S</td>\n",
       "    </tr>\n",
       "    <tr>\n",
       "      <th>889</th>\n",
       "      <td>890</td>\n",
       "      <td>1</td>\n",
       "      <td>1</td>\n",
       "      <td>Behr, Mr. Karl Howell</td>\n",
       "      <td>male</td>\n",
       "      <td>26.0</td>\n",
       "      <td>0</td>\n",
       "      <td>0</td>\n",
       "      <td>111369</td>\n",
       "      <td>30.0000</td>\n",
       "      <td>C148</td>\n",
       "      <td>C</td>\n",
       "    </tr>\n",
       "    <tr>\n",
       "      <th>890</th>\n",
       "      <td>891</td>\n",
       "      <td>0</td>\n",
       "      <td>3</td>\n",
       "      <td>Dooley, Mr. Patrick</td>\n",
       "      <td>male</td>\n",
       "      <td>32.0</td>\n",
       "      <td>0</td>\n",
       "      <td>0</td>\n",
       "      <td>370376</td>\n",
       "      <td>7.7500</td>\n",
       "      <td>NaN</td>\n",
       "      <td>Q</td>\n",
       "    </tr>\n",
       "  </tbody>\n",
       "</table>\n",
       "<p>891 rows × 12 columns</p>\n",
       "</div>"
      ],
      "text/plain": [
       "     PassengerId  Survived  Pclass  \\\n",
       "0              1         0       3   \n",
       "1              2         1       1   \n",
       "2              3         1       3   \n",
       "3              4         1       1   \n",
       "4              5         0       3   \n",
       "..           ...       ...     ...   \n",
       "886          887         0       2   \n",
       "887          888         1       1   \n",
       "888          889         0       3   \n",
       "889          890         1       1   \n",
       "890          891         0       3   \n",
       "\n",
       "                                                  Name     Sex   Age  SibSp  \\\n",
       "0                              Braund, Mr. Owen Harris    male  22.0      1   \n",
       "1    Cumings, Mrs. John Bradley (Florence Briggs Th...  female  38.0      1   \n",
       "2                               Heikkinen, Miss. Laina  female  26.0      0   \n",
       "3         Futrelle, Mrs. Jacques Heath (Lily May Peel)  female  35.0      1   \n",
       "4                             Allen, Mr. William Henry    male  35.0      0   \n",
       "..                                                 ...     ...   ...    ...   \n",
       "886                              Montvila, Rev. Juozas    male  27.0      0   \n",
       "887                       Graham, Miss. Margaret Edith  female  19.0      0   \n",
       "888           Johnston, Miss. Catherine Helen \"Carrie\"  female   NaN      1   \n",
       "889                              Behr, Mr. Karl Howell    male  26.0      0   \n",
       "890                                Dooley, Mr. Patrick    male  32.0      0   \n",
       "\n",
       "     Parch            Ticket     Fare Cabin Embarked  \n",
       "0        0         A/5 21171   7.2500   NaN        S  \n",
       "1        0          PC 17599  71.2833   C85        C  \n",
       "2        0  STON/O2. 3101282   7.9250   NaN        S  \n",
       "3        0            113803  53.1000  C123        S  \n",
       "4        0            373450   8.0500   NaN        S  \n",
       "..     ...               ...      ...   ...      ...  \n",
       "886      0            211536  13.0000   NaN        S  \n",
       "887      0            112053  30.0000   B42        S  \n",
       "888      2        W./C. 6607  23.4500   NaN        S  \n",
       "889      0            111369  30.0000  C148        C  \n",
       "890      0            370376   7.7500   NaN        Q  \n",
       "\n",
       "[891 rows x 12 columns]"
      ]
     },
     "execution_count": 125,
     "metadata": {},
     "output_type": "execute_result"
    }
   ],
   "source": [
    "titanic"
   ]
  },
  {
   "cell_type": "code",
   "execution_count": 126,
   "id": "d708466d",
   "metadata": {},
   "outputs": [
    {
     "data": {
      "text/html": [
       "<div>\n",
       "<style scoped>\n",
       "    .dataframe tbody tr th:only-of-type {\n",
       "        vertical-align: middle;\n",
       "    }\n",
       "\n",
       "    .dataframe tbody tr th {\n",
       "        vertical-align: top;\n",
       "    }\n",
       "\n",
       "    .dataframe thead th {\n",
       "        text-align: right;\n",
       "    }\n",
       "</style>\n",
       "<table border=\"1\" class=\"dataframe\">\n",
       "  <thead>\n",
       "    <tr style=\"text-align: right;\">\n",
       "      <th></th>\n",
       "      <th>PassengerId</th>\n",
       "      <th>Survived</th>\n",
       "      <th>Pclass</th>\n",
       "      <th>Name</th>\n",
       "      <th>Sex</th>\n",
       "      <th>Age</th>\n",
       "      <th>SibSp</th>\n",
       "      <th>Parch</th>\n",
       "      <th>Ticket</th>\n",
       "      <th>Fare</th>\n",
       "      <th>Cabin</th>\n",
       "      <th>Embarked</th>\n",
       "    </tr>\n",
       "  </thead>\n",
       "  <tbody>\n",
       "    <tr>\n",
       "      <th>0</th>\n",
       "      <td>1</td>\n",
       "      <td>0</td>\n",
       "      <td>3</td>\n",
       "      <td>Braund, Mr. Owen Harris</td>\n",
       "      <td>male</td>\n",
       "      <td>22.0</td>\n",
       "      <td>1</td>\n",
       "      <td>0</td>\n",
       "      <td>A/5 21171</td>\n",
       "      <td>7.2500</td>\n",
       "      <td>NaN</td>\n",
       "      <td>S</td>\n",
       "    </tr>\n",
       "    <tr>\n",
       "      <th>1</th>\n",
       "      <td>2</td>\n",
       "      <td>1</td>\n",
       "      <td>1</td>\n",
       "      <td>Cumings, Mrs. John Bradley (Florence Briggs Th...</td>\n",
       "      <td>female</td>\n",
       "      <td>38.0</td>\n",
       "      <td>1</td>\n",
       "      <td>0</td>\n",
       "      <td>PC 17599</td>\n",
       "      <td>71.2833</td>\n",
       "      <td>C85</td>\n",
       "      <td>C</td>\n",
       "    </tr>\n",
       "    <tr>\n",
       "      <th>2</th>\n",
       "      <td>3</td>\n",
       "      <td>1</td>\n",
       "      <td>3</td>\n",
       "      <td>Heikkinen, Miss. Laina</td>\n",
       "      <td>female</td>\n",
       "      <td>26.0</td>\n",
       "      <td>0</td>\n",
       "      <td>0</td>\n",
       "      <td>STON/O2. 3101282</td>\n",
       "      <td>7.9250</td>\n",
       "      <td>NaN</td>\n",
       "      <td>S</td>\n",
       "    </tr>\n",
       "    <tr>\n",
       "      <th>3</th>\n",
       "      <td>4</td>\n",
       "      <td>1</td>\n",
       "      <td>1</td>\n",
       "      <td>Futrelle, Mrs. Jacques Heath (Lily May Peel)</td>\n",
       "      <td>female</td>\n",
       "      <td>35.0</td>\n",
       "      <td>1</td>\n",
       "      <td>0</td>\n",
       "      <td>113803</td>\n",
       "      <td>53.1000</td>\n",
       "      <td>C123</td>\n",
       "      <td>S</td>\n",
       "    </tr>\n",
       "    <tr>\n",
       "      <th>4</th>\n",
       "      <td>5</td>\n",
       "      <td>0</td>\n",
       "      <td>3</td>\n",
       "      <td>Allen, Mr. William Henry</td>\n",
       "      <td>male</td>\n",
       "      <td>35.0</td>\n",
       "      <td>0</td>\n",
       "      <td>0</td>\n",
       "      <td>373450</td>\n",
       "      <td>8.0500</td>\n",
       "      <td>NaN</td>\n",
       "      <td>S</td>\n",
       "    </tr>\n",
       "  </tbody>\n",
       "</table>\n",
       "</div>"
      ],
      "text/plain": [
       "   PassengerId  Survived  Pclass  \\\n",
       "0            1         0       3   \n",
       "1            2         1       1   \n",
       "2            3         1       3   \n",
       "3            4         1       1   \n",
       "4            5         0       3   \n",
       "\n",
       "                                                Name     Sex   Age  SibSp  \\\n",
       "0                            Braund, Mr. Owen Harris    male  22.0      1   \n",
       "1  Cumings, Mrs. John Bradley (Florence Briggs Th...  female  38.0      1   \n",
       "2                             Heikkinen, Miss. Laina  female  26.0      0   \n",
       "3       Futrelle, Mrs. Jacques Heath (Lily May Peel)  female  35.0      1   \n",
       "4                           Allen, Mr. William Henry    male  35.0      0   \n",
       "\n",
       "   Parch            Ticket     Fare Cabin Embarked  \n",
       "0      0         A/5 21171   7.2500   NaN        S  \n",
       "1      0          PC 17599  71.2833   C85        C  \n",
       "2      0  STON/O2. 3101282   7.9250   NaN        S  \n",
       "3      0            113803  53.1000  C123        S  \n",
       "4      0            373450   8.0500   NaN        S  "
      ]
     },
     "execution_count": 126,
     "metadata": {},
     "output_type": "execute_result"
    }
   ],
   "source": [
    "titanic.head()"
   ]
  },
  {
   "cell_type": "code",
   "execution_count": 127,
   "id": "e8cf99e5",
   "metadata": {},
   "outputs": [
    {
     "data": {
      "text/html": [
       "<div>\n",
       "<style scoped>\n",
       "    .dataframe tbody tr th:only-of-type {\n",
       "        vertical-align: middle;\n",
       "    }\n",
       "\n",
       "    .dataframe tbody tr th {\n",
       "        vertical-align: top;\n",
       "    }\n",
       "\n",
       "    .dataframe thead th {\n",
       "        text-align: right;\n",
       "    }\n",
       "</style>\n",
       "<table border=\"1\" class=\"dataframe\">\n",
       "  <thead>\n",
       "    <tr style=\"text-align: right;\">\n",
       "      <th></th>\n",
       "      <th>PassengerId</th>\n",
       "      <th>Survived</th>\n",
       "      <th>Pclass</th>\n",
       "      <th>Name</th>\n",
       "      <th>Sex</th>\n",
       "      <th>Age</th>\n",
       "      <th>SibSp</th>\n",
       "      <th>Parch</th>\n",
       "      <th>Ticket</th>\n",
       "      <th>Fare</th>\n",
       "      <th>Cabin</th>\n",
       "      <th>Embarked</th>\n",
       "    </tr>\n",
       "  </thead>\n",
       "  <tbody>\n",
       "    <tr>\n",
       "      <th>886</th>\n",
       "      <td>887</td>\n",
       "      <td>0</td>\n",
       "      <td>2</td>\n",
       "      <td>Montvila, Rev. Juozas</td>\n",
       "      <td>male</td>\n",
       "      <td>27.0</td>\n",
       "      <td>0</td>\n",
       "      <td>0</td>\n",
       "      <td>211536</td>\n",
       "      <td>13.00</td>\n",
       "      <td>NaN</td>\n",
       "      <td>S</td>\n",
       "    </tr>\n",
       "    <tr>\n",
       "      <th>887</th>\n",
       "      <td>888</td>\n",
       "      <td>1</td>\n",
       "      <td>1</td>\n",
       "      <td>Graham, Miss. Margaret Edith</td>\n",
       "      <td>female</td>\n",
       "      <td>19.0</td>\n",
       "      <td>0</td>\n",
       "      <td>0</td>\n",
       "      <td>112053</td>\n",
       "      <td>30.00</td>\n",
       "      <td>B42</td>\n",
       "      <td>S</td>\n",
       "    </tr>\n",
       "    <tr>\n",
       "      <th>888</th>\n",
       "      <td>889</td>\n",
       "      <td>0</td>\n",
       "      <td>3</td>\n",
       "      <td>Johnston, Miss. Catherine Helen \"Carrie\"</td>\n",
       "      <td>female</td>\n",
       "      <td>NaN</td>\n",
       "      <td>1</td>\n",
       "      <td>2</td>\n",
       "      <td>W./C. 6607</td>\n",
       "      <td>23.45</td>\n",
       "      <td>NaN</td>\n",
       "      <td>S</td>\n",
       "    </tr>\n",
       "    <tr>\n",
       "      <th>889</th>\n",
       "      <td>890</td>\n",
       "      <td>1</td>\n",
       "      <td>1</td>\n",
       "      <td>Behr, Mr. Karl Howell</td>\n",
       "      <td>male</td>\n",
       "      <td>26.0</td>\n",
       "      <td>0</td>\n",
       "      <td>0</td>\n",
       "      <td>111369</td>\n",
       "      <td>30.00</td>\n",
       "      <td>C148</td>\n",
       "      <td>C</td>\n",
       "    </tr>\n",
       "    <tr>\n",
       "      <th>890</th>\n",
       "      <td>891</td>\n",
       "      <td>0</td>\n",
       "      <td>3</td>\n",
       "      <td>Dooley, Mr. Patrick</td>\n",
       "      <td>male</td>\n",
       "      <td>32.0</td>\n",
       "      <td>0</td>\n",
       "      <td>0</td>\n",
       "      <td>370376</td>\n",
       "      <td>7.75</td>\n",
       "      <td>NaN</td>\n",
       "      <td>Q</td>\n",
       "    </tr>\n",
       "  </tbody>\n",
       "</table>\n",
       "</div>"
      ],
      "text/plain": [
       "     PassengerId  Survived  Pclass                                      Name  \\\n",
       "886          887         0       2                     Montvila, Rev. Juozas   \n",
       "887          888         1       1              Graham, Miss. Margaret Edith   \n",
       "888          889         0       3  Johnston, Miss. Catherine Helen \"Carrie\"   \n",
       "889          890         1       1                     Behr, Mr. Karl Howell   \n",
       "890          891         0       3                       Dooley, Mr. Patrick   \n",
       "\n",
       "        Sex   Age  SibSp  Parch      Ticket   Fare Cabin Embarked  \n",
       "886    male  27.0      0      0      211536  13.00   NaN        S  \n",
       "887  female  19.0      0      0      112053  30.00   B42        S  \n",
       "888  female   NaN      1      2  W./C. 6607  23.45   NaN        S  \n",
       "889    male  26.0      0      0      111369  30.00  C148        C  \n",
       "890    male  32.0      0      0      370376   7.75   NaN        Q  "
      ]
     },
     "execution_count": 127,
     "metadata": {},
     "output_type": "execute_result"
    }
   ],
   "source": [
    "titanic.tail()"
   ]
  },
  {
   "cell_type": "code",
   "execution_count": 128,
   "id": "7921bd5d",
   "metadata": {},
   "outputs": [
    {
     "data": {
      "text/plain": [
       "(891, 12)"
      ]
     },
     "execution_count": 128,
     "metadata": {},
     "output_type": "execute_result"
    }
   ],
   "source": [
    "titanic.shape"
   ]
  },
  {
   "cell_type": "code",
   "execution_count": 129,
   "id": "04e78425",
   "metadata": {},
   "outputs": [
    {
     "name": "stdout",
     "output_type": "stream",
     "text": [
      "<class 'pandas.core.frame.DataFrame'>\n",
      "RangeIndex: 891 entries, 0 to 890\n",
      "Data columns (total 12 columns):\n",
      " #   Column       Non-Null Count  Dtype  \n",
      "---  ------       --------------  -----  \n",
      " 0   PassengerId  891 non-null    int64  \n",
      " 1   Survived     891 non-null    int64  \n",
      " 2   Pclass       891 non-null    int64  \n",
      " 3   Name         891 non-null    object \n",
      " 4   Sex          891 non-null    object \n",
      " 5   Age          714 non-null    float64\n",
      " 6   SibSp        891 non-null    int64  \n",
      " 7   Parch        891 non-null    int64  \n",
      " 8   Ticket       891 non-null    object \n",
      " 9   Fare         891 non-null    float64\n",
      " 10  Cabin        204 non-null    object \n",
      " 11  Embarked     889 non-null    object \n",
      "dtypes: float64(2), int64(5), object(5)\n",
      "memory usage: 83.7+ KB\n"
     ]
    }
   ],
   "source": [
    "titanic_data.info()"
   ]
  },
  {
   "cell_type": "code",
   "execution_count": null,
   "id": "1cad0440",
   "metadata": {},
   "outputs": [],
   "source": []
  },
  {
   "cell_type": "code",
   "execution_count": 130,
   "id": "fa7df73e",
   "metadata": {},
   "outputs": [
    {
     "data": {
      "text/plain": [
       "PassengerId      0\n",
       "Survived         0\n",
       "Pclass           0\n",
       "Name             0\n",
       "Sex              0\n",
       "Age            177\n",
       "SibSp            0\n",
       "Parch            0\n",
       "Ticket           0\n",
       "Fare             0\n",
       "Cabin          687\n",
       "Embarked         2\n",
       "dtype: int64"
      ]
     },
     "execution_count": 130,
     "metadata": {},
     "output_type": "execute_result"
    }
   ],
   "source": [
    "titanic_data.isnull().sum()"
   ]
  },
  {
   "cell_type": "code",
   "execution_count": 131,
   "id": "3543e82f",
   "metadata": {},
   "outputs": [],
   "source": [
    "titanic = titanic.drop(columns = 'Cabin',axis=1)"
   ]
  },
  {
   "cell_type": "code",
   "execution_count": 132,
   "id": "b10b5005",
   "metadata": {},
   "outputs": [],
   "source": [
    "titanic['Age'].fillna(titanic['Age'].mean(),inplace=True)"
   ]
  },
  {
   "cell_type": "code",
   "execution_count": 133,
   "id": "b500f905",
   "metadata": {},
   "outputs": [
    {
     "name": "stdout",
     "output_type": "stream",
     "text": [
      "0    S\n",
      "Name: Embarked, dtype: object\n"
     ]
    }
   ],
   "source": [
    "print(titanic['Embarked'].mode())\n"
   ]
  },
  {
   "cell_type": "code",
   "execution_count": 134,
   "id": "62f8d840",
   "metadata": {},
   "outputs": [
    {
     "name": "stdout",
     "output_type": "stream",
     "text": [
      "S\n"
     ]
    }
   ],
   "source": [
    "print(titanic['Embarked'].mode()[0])"
   ]
  },
  {
   "cell_type": "code",
   "execution_count": 135,
   "id": "3eb94bf9",
   "metadata": {},
   "outputs": [],
   "source": [
    "titanic['Embarked'].fillna(titanic['Embarked'].mode()[0],inplace=True)"
   ]
  },
  {
   "cell_type": "code",
   "execution_count": 136,
   "id": "03c236f9",
   "metadata": {},
   "outputs": [
    {
     "data": {
      "text/plain": [
       "PassengerId    0\n",
       "Survived       0\n",
       "Pclass         0\n",
       "Name           0\n",
       "Sex            0\n",
       "Age            0\n",
       "SibSp          0\n",
       "Parch          0\n",
       "Ticket         0\n",
       "Fare           0\n",
       "Embarked       0\n",
       "dtype: int64"
      ]
     },
     "execution_count": 136,
     "metadata": {},
     "output_type": "execute_result"
    }
   ],
   "source": [
    "titanic.isnull().sum()"
   ]
  },
  {
   "cell_type": "code",
   "execution_count": 137,
   "id": "64541f44",
   "metadata": {},
   "outputs": [
    {
     "data": {
      "text/html": [
       "<div>\n",
       "<style scoped>\n",
       "    .dataframe tbody tr th:only-of-type {\n",
       "        vertical-align: middle;\n",
       "    }\n",
       "\n",
       "    .dataframe tbody tr th {\n",
       "        vertical-align: top;\n",
       "    }\n",
       "\n",
       "    .dataframe thead th {\n",
       "        text-align: right;\n",
       "    }\n",
       "</style>\n",
       "<table border=\"1\" class=\"dataframe\">\n",
       "  <thead>\n",
       "    <tr style=\"text-align: right;\">\n",
       "      <th></th>\n",
       "      <th>PassengerId</th>\n",
       "      <th>Survived</th>\n",
       "      <th>Pclass</th>\n",
       "      <th>Name</th>\n",
       "      <th>Sex</th>\n",
       "      <th>Age</th>\n",
       "      <th>SibSp</th>\n",
       "      <th>Parch</th>\n",
       "      <th>Ticket</th>\n",
       "      <th>Fare</th>\n",
       "      <th>Embarked</th>\n",
       "    </tr>\n",
       "  </thead>\n",
       "  <tbody>\n",
       "    <tr>\n",
       "      <th>0</th>\n",
       "      <td>1</td>\n",
       "      <td>0</td>\n",
       "      <td>3</td>\n",
       "      <td>Braund, Mr. Owen Harris</td>\n",
       "      <td>male</td>\n",
       "      <td>22.0</td>\n",
       "      <td>1</td>\n",
       "      <td>0</td>\n",
       "      <td>A/5 21171</td>\n",
       "      <td>7.2500</td>\n",
       "      <td>S</td>\n",
       "    </tr>\n",
       "    <tr>\n",
       "      <th>1</th>\n",
       "      <td>2</td>\n",
       "      <td>1</td>\n",
       "      <td>1</td>\n",
       "      <td>Cumings, Mrs. John Bradley (Florence Briggs Th...</td>\n",
       "      <td>female</td>\n",
       "      <td>38.0</td>\n",
       "      <td>1</td>\n",
       "      <td>0</td>\n",
       "      <td>PC 17599</td>\n",
       "      <td>71.2833</td>\n",
       "      <td>C</td>\n",
       "    </tr>\n",
       "    <tr>\n",
       "      <th>2</th>\n",
       "      <td>3</td>\n",
       "      <td>1</td>\n",
       "      <td>3</td>\n",
       "      <td>Heikkinen, Miss. Laina</td>\n",
       "      <td>female</td>\n",
       "      <td>26.0</td>\n",
       "      <td>0</td>\n",
       "      <td>0</td>\n",
       "      <td>STON/O2. 3101282</td>\n",
       "      <td>7.9250</td>\n",
       "      <td>S</td>\n",
       "    </tr>\n",
       "    <tr>\n",
       "      <th>3</th>\n",
       "      <td>4</td>\n",
       "      <td>1</td>\n",
       "      <td>1</td>\n",
       "      <td>Futrelle, Mrs. Jacques Heath (Lily May Peel)</td>\n",
       "      <td>female</td>\n",
       "      <td>35.0</td>\n",
       "      <td>1</td>\n",
       "      <td>0</td>\n",
       "      <td>113803</td>\n",
       "      <td>53.1000</td>\n",
       "      <td>S</td>\n",
       "    </tr>\n",
       "    <tr>\n",
       "      <th>4</th>\n",
       "      <td>5</td>\n",
       "      <td>0</td>\n",
       "      <td>3</td>\n",
       "      <td>Allen, Mr. William Henry</td>\n",
       "      <td>male</td>\n",
       "      <td>35.0</td>\n",
       "      <td>0</td>\n",
       "      <td>0</td>\n",
       "      <td>373450</td>\n",
       "      <td>8.0500</td>\n",
       "      <td>S</td>\n",
       "    </tr>\n",
       "  </tbody>\n",
       "</table>\n",
       "</div>"
      ],
      "text/plain": [
       "   PassengerId  Survived  Pclass  \\\n",
       "0            1         0       3   \n",
       "1            2         1       1   \n",
       "2            3         1       3   \n",
       "3            4         1       1   \n",
       "4            5         0       3   \n",
       "\n",
       "                                                Name     Sex   Age  SibSp  \\\n",
       "0                            Braund, Mr. Owen Harris    male  22.0      1   \n",
       "1  Cumings, Mrs. John Bradley (Florence Briggs Th...  female  38.0      1   \n",
       "2                             Heikkinen, Miss. Laina  female  26.0      0   \n",
       "3       Futrelle, Mrs. Jacques Heath (Lily May Peel)  female  35.0      1   \n",
       "4                           Allen, Mr. William Henry    male  35.0      0   \n",
       "\n",
       "   Parch            Ticket     Fare Embarked  \n",
       "0      0         A/5 21171   7.2500        S  \n",
       "1      0          PC 17599  71.2833        C  \n",
       "2      0  STON/O2. 3101282   7.9250        S  \n",
       "3      0            113803  53.1000        S  \n",
       "4      0            373450   8.0500        S  "
      ]
     },
     "execution_count": 137,
     "metadata": {},
     "output_type": "execute_result"
    }
   ],
   "source": [
    "titanic.head()"
   ]
  },
  {
   "cell_type": "code",
   "execution_count": 138,
   "id": "b3a90176",
   "metadata": {},
   "outputs": [
    {
     "data": {
      "text/html": [
       "<div>\n",
       "<style scoped>\n",
       "    .dataframe tbody tr th:only-of-type {\n",
       "        vertical-align: middle;\n",
       "    }\n",
       "\n",
       "    .dataframe tbody tr th {\n",
       "        vertical-align: top;\n",
       "    }\n",
       "\n",
       "    .dataframe thead th {\n",
       "        text-align: right;\n",
       "    }\n",
       "</style>\n",
       "<table border=\"1\" class=\"dataframe\">\n",
       "  <thead>\n",
       "    <tr style=\"text-align: right;\">\n",
       "      <th></th>\n",
       "      <th>PassengerId</th>\n",
       "      <th>Survived</th>\n",
       "      <th>Pclass</th>\n",
       "      <th>Age</th>\n",
       "      <th>SibSp</th>\n",
       "      <th>Parch</th>\n",
       "      <th>Fare</th>\n",
       "    </tr>\n",
       "  </thead>\n",
       "  <tbody>\n",
       "    <tr>\n",
       "      <th>count</th>\n",
       "      <td>891.000000</td>\n",
       "      <td>891.000000</td>\n",
       "      <td>891.000000</td>\n",
       "      <td>891.000000</td>\n",
       "      <td>891.000000</td>\n",
       "      <td>891.000000</td>\n",
       "      <td>891.000000</td>\n",
       "    </tr>\n",
       "    <tr>\n",
       "      <th>mean</th>\n",
       "      <td>446.000000</td>\n",
       "      <td>0.383838</td>\n",
       "      <td>2.308642</td>\n",
       "      <td>29.699118</td>\n",
       "      <td>0.523008</td>\n",
       "      <td>0.381594</td>\n",
       "      <td>32.204208</td>\n",
       "    </tr>\n",
       "    <tr>\n",
       "      <th>std</th>\n",
       "      <td>257.353842</td>\n",
       "      <td>0.486592</td>\n",
       "      <td>0.836071</td>\n",
       "      <td>13.002015</td>\n",
       "      <td>1.102743</td>\n",
       "      <td>0.806057</td>\n",
       "      <td>49.693429</td>\n",
       "    </tr>\n",
       "    <tr>\n",
       "      <th>min</th>\n",
       "      <td>1.000000</td>\n",
       "      <td>0.000000</td>\n",
       "      <td>1.000000</td>\n",
       "      <td>0.420000</td>\n",
       "      <td>0.000000</td>\n",
       "      <td>0.000000</td>\n",
       "      <td>0.000000</td>\n",
       "    </tr>\n",
       "    <tr>\n",
       "      <th>25%</th>\n",
       "      <td>223.500000</td>\n",
       "      <td>0.000000</td>\n",
       "      <td>2.000000</td>\n",
       "      <td>22.000000</td>\n",
       "      <td>0.000000</td>\n",
       "      <td>0.000000</td>\n",
       "      <td>7.910400</td>\n",
       "    </tr>\n",
       "    <tr>\n",
       "      <th>50%</th>\n",
       "      <td>446.000000</td>\n",
       "      <td>0.000000</td>\n",
       "      <td>3.000000</td>\n",
       "      <td>29.699118</td>\n",
       "      <td>0.000000</td>\n",
       "      <td>0.000000</td>\n",
       "      <td>14.454200</td>\n",
       "    </tr>\n",
       "    <tr>\n",
       "      <th>75%</th>\n",
       "      <td>668.500000</td>\n",
       "      <td>1.000000</td>\n",
       "      <td>3.000000</td>\n",
       "      <td>35.000000</td>\n",
       "      <td>1.000000</td>\n",
       "      <td>0.000000</td>\n",
       "      <td>31.000000</td>\n",
       "    </tr>\n",
       "    <tr>\n",
       "      <th>max</th>\n",
       "      <td>891.000000</td>\n",
       "      <td>1.000000</td>\n",
       "      <td>3.000000</td>\n",
       "      <td>80.000000</td>\n",
       "      <td>8.000000</td>\n",
       "      <td>6.000000</td>\n",
       "      <td>512.329200</td>\n",
       "    </tr>\n",
       "  </tbody>\n",
       "</table>\n",
       "</div>"
      ],
      "text/plain": [
       "       PassengerId    Survived      Pclass         Age       SibSp  \\\n",
       "count   891.000000  891.000000  891.000000  891.000000  891.000000   \n",
       "mean    446.000000    0.383838    2.308642   29.699118    0.523008   \n",
       "std     257.353842    0.486592    0.836071   13.002015    1.102743   \n",
       "min       1.000000    0.000000    1.000000    0.420000    0.000000   \n",
       "25%     223.500000    0.000000    2.000000   22.000000    0.000000   \n",
       "50%     446.000000    0.000000    3.000000   29.699118    0.000000   \n",
       "75%     668.500000    1.000000    3.000000   35.000000    1.000000   \n",
       "max     891.000000    1.000000    3.000000   80.000000    8.000000   \n",
       "\n",
       "            Parch        Fare  \n",
       "count  891.000000  891.000000  \n",
       "mean     0.381594   32.204208  \n",
       "std      0.806057   49.693429  \n",
       "min      0.000000    0.000000  \n",
       "25%      0.000000    7.910400  \n",
       "50%      0.000000   14.454200  \n",
       "75%      0.000000   31.000000  \n",
       "max      6.000000  512.329200  "
      ]
     },
     "execution_count": 138,
     "metadata": {},
     "output_type": "execute_result"
    }
   ],
   "source": [
    "titanic.describe()"
   ]
  },
  {
   "cell_type": "code",
   "execution_count": 139,
   "id": "4b230266",
   "metadata": {},
   "outputs": [
    {
     "data": {
      "text/plain": [
       "Survived\n",
       "0    549\n",
       "1    342\n",
       "Name: count, dtype: int64"
      ]
     },
     "execution_count": 139,
     "metadata": {},
     "output_type": "execute_result"
    }
   ],
   "source": [
    "titanic['Survived'].value_counts()"
   ]
  },
  {
   "cell_type": "code",
   "execution_count": 140,
   "id": "bd673ee1",
   "metadata": {},
   "outputs": [
    {
     "data": {
      "image/png": "[encoded data removed]",
      "text/plain": [
       "<Figure size 640x480 with 1 Axes>"
      ]
     },
     "metadata": {},
     "output_type": "display_data"
    }
   ],
   "source": [
    "plt.figsize = (5,4)\n",
    "plt.ylabel(\"Count\")\n",
    "plt.xlabel(\"Class\")\n",
    "plt.title('Survived and not Survived')\n",
    "sns.countplot(x='Survived',data = titanic)\n",
    "plt.show()"
   ]
  },
  {
   "cell_type": "code",
   "execution_count": 141,
   "id": "b5a22180",
   "metadata": {},
   "outputs": [
    {
     "data": {
      "image/png": "[encoded data removed]",
      "text/plain": [
       "<Figure size 640x480 with 1 Axes>"
      ]
     },
     "metadata": {},
     "output_type": "display_data"
    }
   ],
   "source": [
    "plt.figsize = (5,4)\n",
    "plt.ylabel(\"Count\")\n",
    "plt.xlabel(\"Class\")\n",
    "plt.title('Survived and not Survived')\n",
    "sns.countplot(x='Sex',data = titanic)\n",
    "plt.show()"
   ]
  },
  {
   "cell_type": "code",
   "execution_count": 142,
   "id": "5fd6e6bb",
   "metadata": {},
   "outputs": [
    {
     "data": {
      "text/plain": [
       "Sex\n",
       "male      577\n",
       "female    314\n",
       "Name: count, dtype: int64"
      ]
     },
     "execution_count": 142,
     "metadata": {},
     "output_type": "execute_result"
    }
   ],
   "source": [
    "titanic['Sex'].value_counts()"
   ]
  },
  {
   "cell_type": "code",
   "execution_count": 143,
   "id": "6d1d1a06",
   "metadata": {},
   "outputs": [
    {
     "data": {
      "text/plain": [
       "<function matplotlib.pyplot.show(close=None, block=None)>"
      ]
     },
     "execution_count": 143,
     "metadata": {},
     "output_type": "execute_result"
    },
    {
     "data": {
      "image/png": "[encoded data removed]",
      "text/plain": [
       "<Figure size 640x480 with 1 Axes>"
      ]
     },
     "metadata": {},
     "output_type": "display_data"
    }
   ],
   "source": [
    "plt.figsize = (5,4)\n",
    "plt.ylabel(\"Count\")\n",
    "plt.xlabel(\"Class\")\n",
    "plt.title('Survived and not Survived')\n",
    "sns.countplot(x='Sex',hue = 'Survived',data = titanic)\n",
    "plt.show"
   ]
  },
  {
   "cell_type": "code",
   "execution_count": 144,
   "id": "a2377ed2",
   "metadata": {},
   "outputs": [
    {
     "data": {
      "text/plain": [
       "<function matplotlib.pyplot.show(close=None, block=None)>"
      ]
     },
     "execution_count": 144,
     "metadata": {},
     "output_type": "execute_result"
    },
    {
     "data": {
      "image/png": "[encoded data removed]",
      "text/plain": [
       "<Figure size 640x480 with 1 Axes>"
      ]
     },
     "metadata": {},
     "output_type": "display_data"
    }
   ],
   "source": [
    "plt.figsize = (5,4)\n",
    "plt.ylabel(\"Count\")\n",
    "plt.xlabel(\"Class\")\n",
    "plt.title('TicketClass')\n",
    "sns.countplot(x='Pclass',data = titanic)\n",
    "plt.show"
   ]
  },
  {
   "cell_type": "code",
   "execution_count": 145,
   "id": "6a589d2a",
   "metadata": {},
   "outputs": [
    {
     "data": {
      "text/plain": [
       "Pclass\n",
       "3    491\n",
       "1    216\n",
       "2    184\n",
       "Name: count, dtype: int64"
      ]
     },
     "execution_count": 145,
     "metadata": {},
     "output_type": "execute_result"
    }
   ],
   "source": [
    "titanic['Pclass'].value_counts()"
   ]
  },
  {
   "cell_type": "code",
   "execution_count": 146,
   "id": "8e8fae6d",
   "metadata": {},
   "outputs": [
    {
     "data": {
      "text/plain": [
       "<function matplotlib.pyplot.show(close=None, block=None)>"
      ]
     },
     "execution_count": 146,
     "metadata": {},
     "output_type": "execute_result"
    },
    {
     "data": {
      "image/png": "[encoded data removed]",
      "text/plain": [
       "<Figure size 640x480 with 1 Axes>"
      ]
     },
     "metadata": {},
     "output_type": "display_data"
    }
   ],
   "source": [
    "plt.figsize = (5,4)\n",
    "plt.ylabel(\"Count\")\n",
    "plt.xlabel(\"Class\")\n",
    "plt.title('Survived and not Survived')\n",
    "sns.countplot(x='Pclass',hue = 'Survived',data = titanic)\n",
    "plt.show"
   ]
  },
  {
   "cell_type": "markdown",
   "id": "3884e9d7",
   "metadata": {},
   "source": [
    "see here in 1st class peoples are more survived and 3rd class peoples are more not survived"
   ]
  },
  {
   "cell_type": "code",
   "execution_count": 147,
   "id": "3276777a",
   "metadata": {},
   "outputs": [
    {
     "data": {
      "text/plain": [
       "<function matplotlib.pyplot.show(close=None, block=None)>"
      ]
     },
     "execution_count": 147,
     "metadata": {},
     "output_type": "execute_result"
    },
    {
     "data": {
      "image/png": "[encoded data removed]",
      "text/plain": [
       "<Figure size 640x480 with 1 Axes>"
      ]
     },
     "metadata": {},
     "output_type": "display_data"
    }
   ],
   "source": [
    "plt.figsize = (5,4)\n",
    "plt.ylabel(\"Count\")\n",
    "plt.xlabel(\"Class\")\n",
    "sns.countplot(x='Embarked',data = titanic,hue = 'Survived')\n",
    "plt.show"
   ]
  },
  {
   "cell_type": "code",
   "execution_count": 148,
   "id": "cb362fcf",
   "metadata": {},
   "outputs": [
    {
     "data": {
      "text/plain": [
       "<function matplotlib.pyplot.show(close=None, block=None)>"
      ]
     },
     "execution_count": 148,
     "metadata": {},
     "output_type": "execute_result"
    },
    {
     "data": {
      "image/png": "[encoded data removed]",
      "text/plain": [
       "<Figure size 640x480 with 1 Axes>"
      ]
     },
     "metadata": {},
     "output_type": "display_data"
    }
   ],
   "source": [
    "plt.figsize = (5,4)\n",
    "plt.ylabel(\"Count\")\n",
    "plt.xlabel(\"Class\")\n",
    "sns.countplot(x='SibSp',data = titanic,hue = 'Survived')\n",
    "plt.show"
   ]
  },
  {
   "cell_type": "code",
   "execution_count": 149,
   "id": "948ddd91",
   "metadata": {},
   "outputs": [],
   "source": [
    "# Assuming titanic is your DataFrame\n",
    "numeric_columns = titanic.select_dtypes(include=['float64', 'int64']).columns\n",
    "correlation_matrix = titanic[numeric_columns].corr()\n",
    "\n",
    "# Now you can use correlation_matrix for analysis\n"
   ]
  },
  {
   "cell_type": "code",
   "execution_count": null,
   "id": "22be7dbf",
   "metadata": {},
   "outputs": [],
   "source": []
  },
  {
   "cell_type": "code",
   "execution_count": 150,
   "id": "b4c872c2",
   "metadata": {},
   "outputs": [
    {
     "data": {
      "image/png": "[encoded data removed]",
      "text/plain": [
       "<Figure size 2200x700 with 1 Axes>"
      ]
     },
     "metadata": {},
     "output_type": "display_data"
    }
   ],
   "source": [
    "#visualize correlation\n",
    "\n",
    "# Select numeric columns\n",
    "numeric_columns = titanic.select_dtypes(include=['float64', 'int64']).columns\n",
    "\n",
    "# Calculate correlation matrix\n",
    "correlation_matrix = titanic[numeric_columns].corr()\n",
    "\n",
    "# Plot the correlation with 'Survived' column\n",
    "plt.figure(figsize=(22, 7))\n",
    "correlation_matrix['Survived'].sort_values(ascending=False).drop(['Survived']).plot(kind='bar', color='c')\n",
    "plt.xlabel('Feature', fontsize=14)\n",
    "plt.ylabel('Correlation with \"Survived\"', fontsize=14)\n",
    "plt.title('Correlation with \"Survived\"', fontsize=18)\n",
    "plt.show()\n"
   ]
  },
  {
   "cell_type": "code",
   "execution_count": 151,
   "id": "d30d8598",
   "metadata": {},
   "outputs": [
    {
     "data": {
      "image/png": "[encoded data removed]",
      "text/plain": [
       "<Figure size 1300x500 with 2 Axes>"
      ]
     },
     "metadata": {},
     "output_type": "display_data"
    }
   ],
   "source": [
    "#lets visualize the correlation between colomns using with heatmap\n",
    "\n",
    "# Select numeric columns\n",
    "numeric_columns = titanic.select_dtypes(include=['float64', 'int64']).columns\n",
    "\n",
    "# Create a correlation matrix\n",
    "correlation_matrix = titanic[numeric_columns].corr()\n",
    "\n",
    "# Create a heatmap\n",
    "fig, ax = plt.subplots(figsize=(13, 5))\n",
    "sns.heatmap(correlation_matrix, annot=True, linewidths=.5, ax=ax, cmap='rainbow')\n",
    "plt.show()"
   ]
  },
  {
   "cell_type": "code",
   "execution_count": 152,
   "id": "12c1c33d",
   "metadata": {},
   "outputs": [],
   "source": [
    "#now conver categorical into numeric values\n",
    "#encoding the columns\n",
    "titanic.replace({'Sex':{'male':0,'female':1},'Embarked':{'S':0,'C':1,'Q':2}},inplace = True)"
   ]
  },
  {
   "cell_type": "markdown",
   "id": "7ddb5938",
   "metadata": {},
   "source": [
    "here encoding sex column with 0&1 and embarked columnis with replace 0,1&2"
   ]
  },
  {
   "cell_type": "code",
   "execution_count": 153,
   "id": "0ad8bb1e",
   "metadata": {},
   "outputs": [
    {
     "data": {
      "text/html": [
       "<div>\n",
       "<style scoped>\n",
       "    .dataframe tbody tr th:only-of-type {\n",
       "        vertical-align: middle;\n",
       "    }\n",
       "\n",
       "    .dataframe tbody tr th {\n",
       "        vertical-align: top;\n",
       "    }\n",
       "\n",
       "    .dataframe thead th {\n",
       "        text-align: right;\n",
       "    }\n",
       "</style>\n",
       "<table border=\"1\" class=\"dataframe\">\n",
       "  <thead>\n",
       "    <tr style=\"text-align: right;\">\n",
       "      <th></th>\n",
       "      <th>PassengerId</th>\n",
       "      <th>Survived</th>\n",
       "      <th>Pclass</th>\n",
       "      <th>Name</th>\n",
       "      <th>Sex</th>\n",
       "      <th>Age</th>\n",
       "      <th>SibSp</th>\n",
       "      <th>Parch</th>\n",
       "      <th>Ticket</th>\n",
       "      <th>Fare</th>\n",
       "      <th>Embarked</th>\n",
       "    </tr>\n",
       "  </thead>\n",
       "  <tbody>\n",
       "    <tr>\n",
       "      <th>0</th>\n",
       "      <td>1</td>\n",
       "      <td>0</td>\n",
       "      <td>3</td>\n",
       "      <td>Braund, Mr. Owen Harris</td>\n",
       "      <td>0</td>\n",
       "      <td>22.0</td>\n",
       "      <td>1</td>\n",
       "      <td>0</td>\n",
       "      <td>A/5 21171</td>\n",
       "      <td>7.2500</td>\n",
       "      <td>0</td>\n",
       "    </tr>\n",
       "    <tr>\n",
       "      <th>1</th>\n",
       "      <td>2</td>\n",
       "      <td>1</td>\n",
       "      <td>1</td>\n",
       "      <td>Cumings, Mrs. John Bradley (Florence Briggs Th...</td>\n",
       "      <td>1</td>\n",
       "      <td>38.0</td>\n",
       "      <td>1</td>\n",
       "      <td>0</td>\n",
       "      <td>PC 17599</td>\n",
       "      <td>71.2833</td>\n",
       "      <td>1</td>\n",
       "    </tr>\n",
       "    <tr>\n",
       "      <th>2</th>\n",
       "      <td>3</td>\n",
       "      <td>1</td>\n",
       "      <td>3</td>\n",
       "      <td>Heikkinen, Miss. Laina</td>\n",
       "      <td>1</td>\n",
       "      <td>26.0</td>\n",
       "      <td>0</td>\n",
       "      <td>0</td>\n",
       "      <td>STON/O2. 3101282</td>\n",
       "      <td>7.9250</td>\n",
       "      <td>0</td>\n",
       "    </tr>\n",
       "    <tr>\n",
       "      <th>3</th>\n",
       "      <td>4</td>\n",
       "      <td>1</td>\n",
       "      <td>1</td>\n",
       "      <td>Futrelle, Mrs. Jacques Heath (Lily May Peel)</td>\n",
       "      <td>1</td>\n",
       "      <td>35.0</td>\n",
       "      <td>1</td>\n",
       "      <td>0</td>\n",
       "      <td>113803</td>\n",
       "      <td>53.1000</td>\n",
       "      <td>0</td>\n",
       "    </tr>\n",
       "    <tr>\n",
       "      <th>4</th>\n",
       "      <td>5</td>\n",
       "      <td>0</td>\n",
       "      <td>3</td>\n",
       "      <td>Allen, Mr. William Henry</td>\n",
       "      <td>0</td>\n",
       "      <td>35.0</td>\n",
       "      <td>0</td>\n",
       "      <td>0</td>\n",
       "      <td>373450</td>\n",
       "      <td>8.0500</td>\n",
       "      <td>0</td>\n",
       "    </tr>\n",
       "  </tbody>\n",
       "</table>\n",
       "</div>"
      ],
      "text/plain": [
       "   PassengerId  Survived  Pclass  \\\n",
       "0            1         0       3   \n",
       "1            2         1       1   \n",
       "2            3         1       3   \n",
       "3            4         1       1   \n",
       "4            5         0       3   \n",
       "\n",
       "                                                Name  Sex   Age  SibSp  Parch  \\\n",
       "0                            Braund, Mr. Owen Harris    0  22.0      1      0   \n",
       "1  Cumings, Mrs. John Bradley (Florence Briggs Th...    1  38.0      1      0   \n",
       "2                             Heikkinen, Miss. Laina    1  26.0      0      0   \n",
       "3       Futrelle, Mrs. Jacques Heath (Lily May Peel)    1  35.0      1      0   \n",
       "4                           Allen, Mr. William Henry    0  35.0      0      0   \n",
       "\n",
       "             Ticket     Fare  Embarked  \n",
       "0         A/5 21171   7.2500         0  \n",
       "1          PC 17599  71.2833         1  \n",
       "2  STON/O2. 3101282   7.9250         0  \n",
       "3            113803  53.1000         0  \n",
       "4            373450   8.0500         0  "
      ]
     },
     "execution_count": 153,
     "metadata": {},
     "output_type": "execute_result"
    }
   ],
   "source": [
    "#check dataframe\n",
    "titanic.head()"
   ]
  },
  {
   "cell_type": "code",
   "execution_count": 154,
   "id": "edbfcfe1",
   "metadata": {},
   "outputs": [],
   "source": [
    "#seperate features and target\n",
    "x = titanic.drop(columns = ['PassengerId','Name','Ticket','Survived'],axis = 1)\n",
    "y = titanic['Survived']"
   ]
  },
  {
   "cell_type": "code",
   "execution_count": 155,
   "id": "504fcc10",
   "metadata": {},
   "outputs": [
    {
     "data": {
      "text/html": [
       "<div>\n",
       "<style scoped>\n",
       "    .dataframe tbody tr th:only-of-type {\n",
       "        vertical-align: middle;\n",
       "    }\n",
       "\n",
       "    .dataframe tbody tr th {\n",
       "        vertical-align: top;\n",
       "    }\n",
       "\n",
       "    .dataframe thead th {\n",
       "        text-align: right;\n",
       "    }\n",
       "</style>\n",
       "<table border=\"1\" class=\"dataframe\">\n",
       "  <thead>\n",
       "    <tr style=\"text-align: right;\">\n",
       "      <th></th>\n",
       "      <th>Pclass</th>\n",
       "      <th>Sex</th>\n",
       "      <th>Age</th>\n",
       "      <th>SibSp</th>\n",
       "      <th>Parch</th>\n",
       "      <th>Fare</th>\n",
       "      <th>Embarked</th>\n",
       "    </tr>\n",
       "  </thead>\n",
       "  <tbody>\n",
       "    <tr>\n",
       "      <th>0</th>\n",
       "      <td>3</td>\n",
       "      <td>0</td>\n",
       "      <td>22.0</td>\n",
       "      <td>1</td>\n",
       "      <td>0</td>\n",
       "      <td>7.2500</td>\n",
       "      <td>0</td>\n",
       "    </tr>\n",
       "    <tr>\n",
       "      <th>1</th>\n",
       "      <td>1</td>\n",
       "      <td>1</td>\n",
       "      <td>38.0</td>\n",
       "      <td>1</td>\n",
       "      <td>0</td>\n",
       "      <td>71.2833</td>\n",
       "      <td>1</td>\n",
       "    </tr>\n",
       "    <tr>\n",
       "      <th>2</th>\n",
       "      <td>3</td>\n",
       "      <td>1</td>\n",
       "      <td>26.0</td>\n",
       "      <td>0</td>\n",
       "      <td>0</td>\n",
       "      <td>7.9250</td>\n",
       "      <td>0</td>\n",
       "    </tr>\n",
       "    <tr>\n",
       "      <th>3</th>\n",
       "      <td>1</td>\n",
       "      <td>1</td>\n",
       "      <td>35.0</td>\n",
       "      <td>1</td>\n",
       "      <td>0</td>\n",
       "      <td>53.1000</td>\n",
       "      <td>0</td>\n",
       "    </tr>\n",
       "    <tr>\n",
       "      <th>4</th>\n",
       "      <td>3</td>\n",
       "      <td>0</td>\n",
       "      <td>35.0</td>\n",
       "      <td>0</td>\n",
       "      <td>0</td>\n",
       "      <td>8.0500</td>\n",
       "      <td>0</td>\n",
       "    </tr>\n",
       "  </tbody>\n",
       "</table>\n",
       "</div>"
      ],
      "text/plain": [
       "   Pclass  Sex   Age  SibSp  Parch     Fare  Embarked\n",
       "0       3    0  22.0      1      0   7.2500         0\n",
       "1       1    1  38.0      1      0  71.2833         1\n",
       "2       3    1  26.0      0      0   7.9250         0\n",
       "3       1    1  35.0      1      0  53.1000         0\n",
       "4       3    0  35.0      0      0   8.0500         0"
      ]
     },
     "execution_count": 155,
     "metadata": {},
     "output_type": "execute_result"
    }
   ],
   "source": [
    "x.head()"
   ]
  },
  {
   "cell_type": "code",
   "execution_count": 156,
   "id": "629f06d5",
   "metadata": {},
   "outputs": [
    {
     "data": {
      "text/plain": [
       "<bound method NDFrame._add_numeric_operations.<locals>.skew of      Pclass  Sex        Age  SibSp  Parch     Fare  Embarked\n",
       "0         3    0  22.000000      1      0   7.2500         0\n",
       "1         1    1  38.000000      1      0  71.2833         1\n",
       "2         3    1  26.000000      0      0   7.9250         0\n",
       "3         1    1  35.000000      1      0  53.1000         0\n",
       "4         3    0  35.000000      0      0   8.0500         0\n",
       "..      ...  ...        ...    ...    ...      ...       ...\n",
       "886       2    0  27.000000      0      0  13.0000         0\n",
       "887       1    1  19.000000      0      0  30.0000         0\n",
       "888       3    1  29.699118      1      2  23.4500         0\n",
       "889       1    0  26.000000      0      0  30.0000         1\n",
       "890       3    0  32.000000      0      0   7.7500         2\n",
       "\n",
       "[891 rows x 7 columns]>"
      ]
     },
     "execution_count": 156,
     "metadata": {},
     "output_type": "execute_result"
    }
   ],
   "source": [
    "#checking skewness\n",
    "x.skew"
   ]
  },
  {
   "cell_type": "code",
   "execution_count": 157,
   "id": "cc0e856d",
   "metadata": {},
   "outputs": [
    {
     "data": {
      "image/png": "[encoded data removed]",
      "text/plain": [
       "<Figure size 1200x1200 with 7 Axes>"
      ]
     },
     "metadata": {},
     "output_type": "display_data"
    }
   ],
   "source": [
    "#check outliers in box plot\n",
    "fig, axs = plt.subplots(7, figsize = (12,12))\n",
    "plt1 = sns.boxplot(x['Pclass'], ax = axs[0])\n",
    "plt2 = sns.boxplot(x['Sex'], ax = axs[1])\n",
    "plt3 = sns.boxplot(x['Age'], ax = axs[2])\n",
    "plt4 = sns.boxplot(x['SibSp'], ax = axs[3])\n",
    "plt5 = sns.boxplot(x['Parch'], ax = axs[4])\n",
    "plt6 = sns.boxplot(x['Fare'], ax = axs[5])\n",
    "plt7 = sns.boxplot(x['Embarked'], ax = axs[6])\n",
    "plt.tight_layout()"
   ]
  },
  {
   "cell_type": "code",
   "execution_count": 158,
   "id": "5c0d6602",
   "metadata": {},
   "outputs": [],
   "source": [
    "#remove outliers with power transform\n",
    "from sklearn.preprocessing import power_transform\n",
    "x_new=power_transform(x)\n",
    "x_new=pd.DataFrame(x_new,columns=x.columns)"
   ]
  },
  {
   "cell_type": "code",
   "execution_count": 159,
   "id": "cdbfd34f",
   "metadata": {},
   "outputs": [
    {
     "data": {
      "text/plain": [
       "<bound method NDFrame._add_numeric_operations.<locals>.skew of        Pclass       Sex       Age     SibSp     Parch      Fare  Embarked\n",
       "0    0.863973 -0.737695 -0.556267  1.373636 -0.560253 -0.878820 -0.615473\n",
       "1   -1.459129  1.355574  0.657269  1.373636 -0.560253  1.336651  1.578373\n",
       "2    0.863973  1.355574 -0.241577 -0.679850 -0.560253 -0.790065 -0.615473\n",
       "3   -1.459129  1.355574  0.437923  1.373636 -0.560253  1.067352 -0.615473\n",
       "4    0.863973 -0.737695  0.437923 -0.679850 -0.560253 -0.774439 -0.615473\n",
       "..        ...       ...       ...       ...       ...       ...       ...\n",
       "886 -0.592604 -0.737695 -0.164262 -0.679850 -0.560253 -0.294907 -0.615473\n",
       "887 -1.459129  1.355574 -0.798775 -0.679850 -0.560253  0.527906 -0.615473\n",
       "888  0.863973  1.355574  0.042001  1.373636  1.846856  0.288885 -0.615473\n",
       "889 -1.459129 -0.737695 -0.241577 -0.679850 -0.560253  0.527906  1.578373\n",
       "890  0.863973 -0.737695  0.215254 -0.679850 -0.560253 -0.812349  1.719856\n",
       "\n",
       "[891 rows x 7 columns]>"
      ]
     },
     "execution_count": 159,
     "metadata": {},
     "output_type": "execute_result"
    }
   ],
   "source": [
    "x_new.skew"
   ]
  },
  {
   "cell_type": "code",
   "execution_count": 160,
   "id": "b46141c8",
   "metadata": {},
   "outputs": [
    {
     "data": {
      "image/png": "[encoded data removed]",
      "text/plain": [
       "<Figure size 1200x1200 with 7 Axes>"
      ]
     },
     "metadata": {},
     "output_type": "display_data"
    }
   ],
   "source": [
    "#check outliers in box plot\n",
    "fig, axs = plt.subplots(7, figsize = (12,12))\n",
    "plt1 = sns.boxplot(x_new['Pclass'], ax = axs[0])\n",
    "plt2 = sns.boxplot(x_new['Sex'], ax = axs[1])\n",
    "plt3 = sns.boxplot(x_new['Age'], ax = axs[2])\n",
    "plt4 = sns.boxplot(x_new['SibSp'], ax = axs[3])\n",
    "plt5 = sns.boxplot(x_new['Parch'], ax = axs[4])\n",
    "plt6 = sns.boxplot(x_new['Fare'], ax = axs[5])\n",
    "plt7 = sns.boxplot(x_new['Embarked'], ax = axs[6])\n",
    "plt.tight_layout()"
   ]
  },
  {
   "cell_type": "code",
   "execution_count": 161,
   "id": "bcc60543",
   "metadata": {},
   "outputs": [
    {
     "name": "stdout",
     "output_type": "stream",
     "text": [
      "0      0\n",
      "1      1\n",
      "2      1\n",
      "3      1\n",
      "4      0\n",
      "      ..\n",
      "886    0\n",
      "887    1\n",
      "888    0\n",
      "889    1\n",
      "890    0\n",
      "Name: Survived, Length: 891, dtype: int64\n"
     ]
    }
   ],
   "source": [
    "print(y)"
   ]
  },
  {
   "cell_type": "markdown",
   "id": "034e174e",
   "metadata": {},
   "source": [
    "# Model Building"
   ]
  },
  {
   "cell_type": "code",
   "execution_count": 162,
   "id": "bbbac319",
   "metadata": {},
   "outputs": [],
   "source": [
    "from sklearn.model_selection import train_test_split"
   ]
  },
  {
   "cell_type": "code",
   "execution_count": 163,
   "id": "f3f00100",
   "metadata": {},
   "outputs": [],
   "source": [
    "#splitting the train_test data\n",
    "x_train, x_test, y_train, y_test = train_test_split(x,y, test_size = 0.2, random_state=0)"
   ]
  },
  {
   "cell_type": "code",
   "execution_count": 164,
   "id": "ce3b845f",
   "metadata": {},
   "outputs": [
    {
     "data": {
      "text/plain": [
       "((891, 7), (712, 7), (179, 7))"
      ]
     },
     "execution_count": 164,
     "metadata": {},
     "output_type": "execute_result"
    }
   ],
   "source": [
    "x.shape,x_train.shape,x_test.shape"
   ]
  },
  {
   "cell_type": "code",
   "execution_count": 165,
   "id": "2d9c0501",
   "metadata": {},
   "outputs": [],
   "source": [
    "from sklearn.linear_model import LogisticRegression\n",
    "from sklearn.neighbors import KNeighborsClassifier\n",
    "from sklearn.ensemble import RandomForestClassifier\n",
    "from sklearn.tree import DecisionTreeClassifier\n",
    "from sklearn.metrics import classification_report,confusion_matrix,accuracy_score,roc_auc_score,roc_curve\n",
    "from sklearn.model_selection import cross_val_score"
   ]
  },
  {
   "cell_type": "code",
   "execution_count": 166,
   "id": "e6ea0915",
   "metadata": {},
   "outputs": [
    {
     "name": "stdout",
     "output_type": "stream",
     "text": [
      "              precision    recall  f1-score   support\n",
      "\n",
      "           0       0.81      0.87      0.84       439\n",
      "           1       0.77      0.67      0.71       273\n",
      "\n",
      "    accuracy                           0.79       712\n",
      "   macro avg       0.79      0.77      0.78       712\n",
      "weighted avg       0.79      0.79      0.79       712\n",
      "\n",
      "[[384  55]\n",
      " [ 91 182]]\n",
      "              precision    recall  f1-score   support\n",
      "\n",
      "           0       0.82      0.90      0.86       110\n",
      "           1       0.81      0.68      0.74        69\n",
      "\n",
      "    accuracy                           0.82       179\n",
      "   macro avg       0.81      0.79      0.80       179\n",
      "weighted avg       0.82      0.82      0.81       179\n",
      "\n",
      "[[99 11]\n",
      " [22 47]]\n"
     ]
    }
   ],
   "source": [
    "#Train result\n",
    "KNN = KNeighborsClassifier()\n",
    "KNN.fit(x_train, y_train)\n",
    "y_pred =KNN .predict(x_train)\n",
    "accuracy = classification_report(y_train, y_pred)\n",
    "print(accuracy)\n",
    "print(confusion_matrix(y_train, y_pred))\n",
    "\n",
    "\n",
    "#Test result\n",
    "KNN = KNeighborsClassifier()\n",
    "KNN.fit(x_test, y_test)\n",
    "y_pred =KNN .predict(x_test)\n",
    "accuracy = classification_report(y_test, y_pred)\n",
    "print(accuracy)\n",
    "print(confusion_matrix(y_test, y_pred))"
   ]
  },
  {
   "cell_type": "code",
   "execution_count": 167,
   "id": "cf9c3935",
   "metadata": {},
   "outputs": [
    {
     "data": {
      "image/png": "[encoded data removed]",
      "text/plain": [
       "<Figure size 640x480 with 1 Axes>"
      ]
     },
     "metadata": {},
     "output_type": "display_data"
    },
    {
     "name": "stdout",
     "output_type": "stream",
     "text": [
      "The Score for the ROC Curve is : 79.06%\n"
     ]
    }
   ],
   "source": [
    "#roc_curve plot to check the socre of knn\n",
    "fpr, tpr, _= roc_curve(y_test, y_pred)\n",
    "auc_score = roc_auc_score(y_test, y_pred)\n",
    "plt.plot(fpr, tpr, label=\"auc=\"+str(auc_score))\n",
    "plt.box(True)\n",
    "plt.title('ROC CURVE KNN')\n",
    "plt.xlabel('False Positive Rate')\n",
    "plt.ylabel('True Positive Rate')\n",
    "plt.legend(loc=4)\n",
    "plt.grid(True)\n",
    "plt.show()\n",
    "print('The Score for the ROC Curve is : {}%'.format(round(auc_score,4)*100))"
   ]
  },
  {
   "cell_type": "code",
   "execution_count": 168,
   "id": "a9340504",
   "metadata": {},
   "outputs": [
    {
     "name": "stdout",
     "output_type": "stream",
     "text": [
      "              precision    recall  f1-score   support\n",
      "\n",
      "           0       0.98      1.00      0.99       439\n",
      "           1       0.99      0.96      0.98       273\n",
      "\n",
      "    accuracy                           0.98       712\n",
      "   macro avg       0.98      0.98      0.98       712\n",
      "weighted avg       0.98      0.98      0.98       712\n",
      "\n",
      "[[437   2]\n",
      " [ 11 262]]\n",
      "              precision    recall  f1-score   support\n",
      "\n",
      "           0       0.82      0.89      0.86       110\n",
      "           1       0.80      0.70      0.74        69\n",
      "\n",
      "    accuracy                           0.82       179\n",
      "   macro avg       0.81      0.79      0.80       179\n",
      "weighted avg       0.81      0.82      0.81       179\n",
      "\n",
      "[[98 12]\n",
      " [21 48]]\n"
     ]
    }
   ],
   "source": [
    "#train result\n",
    "RFC = RandomForestClassifier()\n",
    "RFC.fit(x_train, y_train)\n",
    "y_pred =RFC .predict(x_train)\n",
    "accuracy = classification_report(y_train, y_pred)\n",
    "print(accuracy)\n",
    "print(confusion_matrix(y_train, y_pred))\n",
    "\n",
    "\n",
    "#test result\n",
    "RFC = RandomForestClassifier()\n",
    "RFC.fit(x_train, y_train)\n",
    "y_pred =RFC .predict(x_test)\n",
    "accuracy = classification_report(y_test, y_pred)\n",
    "print(accuracy)\n",
    "print(confusion_matrix(y_test, y_pred))"
   ]
  },
  {
   "cell_type": "code",
   "execution_count": 169,
   "id": "74194200",
   "metadata": {},
   "outputs": [
    {
     "data": {
      "image/png": "[encoded data removed]",
      "text/plain": [
       "<Figure size 640x480 with 1 Axes>"
      ]
     },
     "metadata": {},
     "output_type": "display_data"
    },
    {
     "name": "stdout",
     "output_type": "stream",
     "text": [
      "The Score for the ROC Curve is : 79.33%\n"
     ]
    }
   ],
   "source": [
    "#roc_curve plot to check the socre of RFC\n",
    "fpr, tpr, _= roc_curve(y_test, y_pred)\n",
    "auc_score = roc_auc_score(y_test, y_pred)\n",
    "plt.plot(fpr, tpr, label=\"auc=\"+str(auc_score))\n",
    "plt.box(True)\n",
    "plt.title('ROC CURVE RFC')\n",
    "plt.xlabel('False Positive Rate')\n",
    "plt.ylabel('True Positive Rate')\n",
    "plt.legend(loc=4)\n",
    "plt.grid(True)\n",
    "plt.show()\n",
    "print('The Score for the ROC Curve is : {}%'.format(round(auc_score,4)*100))"
   ]
  },
  {
   "cell_type": "code",
   "execution_count": 170,
   "id": "3c21732d",
   "metadata": {},
   "outputs": [
    {
     "name": "stdout",
     "output_type": "stream",
     "text": [
      "              precision    recall  f1-score   support\n",
      "\n",
      "           0       0.97      1.00      0.99       439\n",
      "           1       1.00      0.95      0.98       273\n",
      "\n",
      "    accuracy                           0.98       712\n",
      "   macro avg       0.99      0.98      0.98       712\n",
      "weighted avg       0.98      0.98      0.98       712\n",
      "\n",
      "[[439   0]\n",
      " [ 13 260]]\n",
      "              precision    recall  f1-score   support\n",
      "\n",
      "           0       0.79      0.85      0.82       110\n",
      "           1       0.73      0.64      0.68        69\n",
      "\n",
      "    accuracy                           0.77       179\n",
      "   macro avg       0.76      0.75      0.75       179\n",
      "weighted avg       0.77      0.77      0.77       179\n",
      "\n",
      "[[94 16]\n",
      " [25 44]]\n"
     ]
    }
   ],
   "source": [
    "#train result\n",
    "DecisionTree = DecisionTreeClassifier()\n",
    "DecisionTree.fit(x_train, y_train)\n",
    "y_pred =DecisionTree .predict(x_train)\n",
    "accuracy = classification_report(y_train, y_pred)\n",
    "print(accuracy)\n",
    "print(confusion_matrix(y_train, y_pred))\n",
    "\n",
    "#test result\n",
    "DecisionTree = DecisionTreeClassifier()\n",
    "DecisionTree.fit(x_train, y_train)\n",
    "y_pred =DecisionTree .predict(x_test)\n",
    "accuracy = classification_report(y_test, y_pred)\n",
    "print(accuracy)\n",
    "print(confusion_matrix(y_test, y_pred))"
   ]
  },
  {
   "cell_type": "code",
   "execution_count": 171,
   "id": "997f476e",
   "metadata": {},
   "outputs": [
    {
     "data": {
      "image/png": "[encoded data removed]",
      "text/plain": [
       "<Figure size 640x480 with 1 Axes>"
      ]
     },
     "metadata": {},
     "output_type": "display_data"
    },
    {
     "name": "stdout",
     "output_type": "stream",
     "text": [
      "The Score for the ROC Curve is : 74.61%\n"
     ]
    }
   ],
   "source": [
    "#roc_curve plot to check the socre of Decisiontree\n",
    "fpr, tpr, _= roc_curve(y_test, y_pred)\n",
    "auc_score = roc_auc_score(y_test, y_pred)\n",
    "plt.plot(fpr, tpr, label=\"auc=\"+str(auc_score))\n",
    "plt.box(True)\n",
    "plt.title('ROC CURVE DecisionTree')\n",
    "plt.xlabel('False Positive Rate')\n",
    "plt.ylabel('True Positive Rate')\n",
    "plt.legend(loc=4)\n",
    "plt.grid(True)\n",
    "plt.show()\n",
    "print('The Score for the ROC Curve is : {}%'.format(round(auc_score,4)*100))"
   ]
  },
  {
   "cell_type": "code",
   "execution_count": 172,
   "id": "34cace0c",
   "metadata": {},
   "outputs": [
    {
     "name": "stdout",
     "output_type": "stream",
     "text": [
      "              precision    recall  f1-score   support\n",
      "\n",
      "           0       0.82      0.87      0.84       439\n",
      "           1       0.77      0.70      0.73       273\n",
      "\n",
      "    accuracy                           0.80       712\n",
      "   macro avg       0.79      0.78      0.79       712\n",
      "weighted avg       0.80      0.80      0.80       712\n",
      "\n",
      "[[381  58]\n",
      " [ 82 191]]\n",
      "              precision    recall  f1-score   support\n",
      "\n",
      "           0       0.84      0.85      0.84       110\n",
      "           1       0.75      0.74      0.74        69\n",
      "\n",
      "    accuracy                           0.80       179\n",
      "   macro avg       0.79      0.79      0.79       179\n",
      "weighted avg       0.80      0.80      0.80       179\n",
      "\n",
      "[[93 17]\n",
      " [18 51]]\n"
     ]
    }
   ],
   "source": [
    "#train result\n",
    "LR = LogisticRegression()\n",
    "LR.fit(x_train, y_train)\n",
    "y_pred =LR .predict(x_train)\n",
    "accuracy = classification_report(y_train, y_pred)\n",
    "print(accuracy)\n",
    "print(confusion_matrix(y_train, y_pred))\n",
    "\n",
    "\n",
    "#test result\n",
    "LR = LogisticRegression()\n",
    "LR.fit(x_train, y_train)\n",
    "y_pred =LR .predict(x_test)\n",
    "accuracy = classification_report(y_test, y_pred)\n",
    "print(accuracy)\n",
    "print(confusion_matrix(y_test, y_pred))"
   ]
  },
  {
   "cell_type": "code",
   "execution_count": 173,
   "id": "7698c3c2",
   "metadata": {},
   "outputs": [
    {
     "data": {
      "image/png": "[encoded data removed]",
      "text/plain": [
       "<Figure size 640x480 with 1 Axes>"
      ]
     },
     "metadata": {},
     "output_type": "display_data"
    },
    {
     "name": "stdout",
     "output_type": "stream",
     "text": [
      "The Score for the ROC Curve is : 79.23%\n"
     ]
    }
   ],
   "source": [
    "#roc_curve plot to check the socre of LogesticRegression\n",
    "fpr, tpr, _= roc_curve(y_test, y_pred)\n",
    "auc_score = roc_auc_score(y_test, y_pred)\n",
    "plt.plot(fpr, tpr, label=\"auc=\"+str(auc_score))\n",
    "plt.box(True)\n",
    "plt.title('ROC CURVE LR')\n",
    "plt.xlabel('False Positive Rate')\n",
    "plt.ylabel('True Positive Rate')\n",
    "plt.legend(loc=4)\n",
    "plt.grid(True)\n",
    "plt.show()\n",
    "print('The Score for the ROC Curve is : {}%'.format(round(auc_score,4)*100))"
   ]
  },
  {
   "cell_type": "markdown",
   "id": "414020a7",
   "metadata": {},
   "source": [
    "# HYPER PARAMETER TUNING"
   ]
  },
  {
   "cell_type": "code",
   "execution_count": 174,
   "id": "00ef5556",
   "metadata": {},
   "outputs": [
    {
     "name": "stdout",
     "output_type": "stream",
     "text": [
      "Fitting 5 folds for each of 72 candidates, totalling 360 fits\n",
      "[CV 1/5] END max_depth=200, max_features=auto, n_estimators=10;, score=nan total time=   0.0s\n",
      "[CV 2/5] END max_depth=200, max_features=auto, n_estimators=10;, score=nan total time=   0.0s\n",
      "[CV 3/5] END max_depth=200, max_features=auto, n_estimators=10;, score=nan total time=   0.0s\n",
      "[CV 4/5] END max_depth=200, max_features=auto, n_estimators=10;, score=nan total time=   0.0s\n",
      "[CV 5/5] END max_depth=200, max_features=auto, n_estimators=10;, score=nan total time=   0.0s\n",
      "[CV 1/5] END max_depth=200, max_features=auto, n_estimators=30;, score=nan total time=   0.0s\n",
      "[CV 2/5] END max_depth=200, max_features=auto, n_estimators=30;, score=nan total time=   0.0s\n",
      "[CV 3/5] END max_depth=200, max_features=auto, n_estimators=30;, score=nan total time=   0.0s\n",
      "[CV 4/5] END max_depth=200, max_features=auto, n_estimators=30;, score=nan total time=   0.0s\n",
      "[CV 5/5] END max_depth=200, max_features=auto, n_estimators=30;, score=nan total time=   0.0s\n",
      "[CV 1/5] END max_depth=200, max_features=auto, n_estimators=50;, score=nan total time=   0.0s\n",
      "[CV 2/5] END max_depth=200, max_features=auto, n_estimators=50;, score=nan total time=   0.0s\n",
      "[CV 3/5] END max_depth=200, max_features=auto, n_estimators=50;, score=nan total time=   0.0s\n",
      "[CV 4/5] END max_depth=200, max_features=auto, n_estimators=50;, score=nan total time=   0.0s\n",
      "[CV 5/5] END max_depth=200, max_features=auto, n_estimators=50;, score=nan total time=   0.0s\n",
      "[CV 1/5] END max_depth=200, max_features=auto, n_estimators=70;, score=nan total time=   0.0s\n",
      "[CV 2/5] END max_depth=200, max_features=auto, n_estimators=70;, score=nan total time=   0.0s\n",
      "[CV 3/5] END max_depth=200, max_features=auto, n_estimators=70;, score=nan total time=   0.0s\n",
      "[CV 4/5] END max_depth=200, max_features=auto, n_estimators=70;, score=nan total time=   0.0s\n",
      "[CV 5/5] END max_depth=200, max_features=auto, n_estimators=70;, score=nan total time=   0.0s\n",
      "[CV 1/5] END max_depth=200, max_features=auto, n_estimators=90;, score=nan total time=   0.0s\n",
      "[CV 2/5] END max_depth=200, max_features=auto, n_estimators=90;, score=nan total time=   0.0s\n",
      "[CV 3/5] END max_depth=200, max_features=auto, n_estimators=90;, score=nan total time=   0.0s\n",
      "[CV 4/5] END max_depth=200, max_features=auto, n_estimators=90;, score=nan total time=   0.0s\n",
      "[CV 5/5] END max_depth=200, max_features=auto, n_estimators=90;, score=nan total time=   0.0s\n",
      "[CV 1/5] END max_depth=200, max_features=auto, n_estimators=110;, score=nan total time=   0.0s\n",
      "[CV 2/5] END max_depth=200, max_features=auto, n_estimators=110;, score=nan total time=   0.0s\n",
      "[CV 3/5] END max_depth=200, max_features=auto, n_estimators=110;, score=nan total time=   0.0s\n",
      "[CV 4/5] END max_depth=200, max_features=auto, n_estimators=110;, score=nan total time=   0.0s\n",
      "[CV 5/5] END max_depth=200, max_features=auto, n_estimators=110;, score=nan total time=   0.0s\n",
      "[CV 1/5] END max_depth=200, max_features=sqrt, n_estimators=10;, score=0.755 total time=   0.0s\n",
      "[CV 2/5] END max_depth=200, max_features=sqrt, n_estimators=10;, score=0.811 total time=   0.0s\n",
      "[CV 3/5] END max_depth=200, max_features=sqrt, n_estimators=10;, score=0.803 total time=   0.0s\n",
      "[CV 4/5] END max_depth=200, max_features=sqrt, n_estimators=10;, score=0.746 total time=   0.0s\n",
      "[CV 5/5] END max_depth=200, max_features=sqrt, n_estimators=10;, score=0.824 total time=   0.0s\n",
      "[CV 1/5] END max_depth=200, max_features=sqrt, n_estimators=30;, score=0.776 total time=   0.0s\n",
      "[CV 2/5] END max_depth=200, max_features=sqrt, n_estimators=30;, score=0.790 total time=   0.0s\n",
      "[CV 3/5] END max_depth=200, max_features=sqrt, n_estimators=30;, score=0.810 total time=   0.0s\n",
      "[CV 4/5] END max_depth=200, max_features=sqrt, n_estimators=30;, score=0.789 total time=   0.0s\n",
      "[CV 5/5] END max_depth=200, max_features=sqrt, n_estimators=30;, score=0.838 total time=   0.0s\n",
      "[CV 1/5] END max_depth=200, max_features=sqrt, n_estimators=50;, score=0.783 total time=   0.1s\n",
      "[CV 2/5] END max_depth=200, max_features=sqrt, n_estimators=50;, score=0.804 total time=   0.1s\n",
      "[CV 3/5] END max_depth=200, max_features=sqrt, n_estimators=50;, score=0.824 total time=   0.1s\n",
      "[CV 4/5] END max_depth=200, max_features=sqrt, n_estimators=50;, score=0.761 total time=   0.2s\n",
      "[CV 5/5] END max_depth=200, max_features=sqrt, n_estimators=50;, score=0.831 total time=   0.1s\n",
      "[CV 1/5] END max_depth=200, max_features=sqrt, n_estimators=70;, score=0.783 total time=   0.3s\n",
      "[CV 2/5] END max_depth=200, max_features=sqrt, n_estimators=70;, score=0.804 total time=   0.2s\n",
      "[CV 3/5] END max_depth=200, max_features=sqrt, n_estimators=70;, score=0.803 total time=   0.2s\n",
      "[CV 4/5] END max_depth=200, max_features=sqrt, n_estimators=70;, score=0.768 total time=   0.2s\n",
      "[CV 5/5] END max_depth=200, max_features=sqrt, n_estimators=70;, score=0.838 total time=   0.2s\n",
      "[CV 1/5] END max_depth=200, max_features=sqrt, n_estimators=90;, score=0.762 total time=   0.2s\n",
      "[CV 2/5] END max_depth=200, max_features=sqrt, n_estimators=90;, score=0.790 total time=   0.3s\n",
      "[CV 3/5] END max_depth=200, max_features=sqrt, n_estimators=90;, score=0.817 total time=   0.2s\n",
      "[CV 4/5] END max_depth=200, max_features=sqrt, n_estimators=90;, score=0.761 total time=   0.2s\n",
      "[CV 5/5] END max_depth=200, max_features=sqrt, n_estimators=90;, score=0.824 total time=   0.2s\n",
      "[CV 1/5] END max_depth=200, max_features=sqrt, n_estimators=110;, score=0.776 total time=   0.4s\n",
      "[CV 2/5] END max_depth=200, max_features=sqrt, n_estimators=110;, score=0.811 total time=   0.3s\n",
      "[CV 3/5] END max_depth=200, max_features=sqrt, n_estimators=110;, score=0.803 total time=   0.3s\n",
      "[CV 4/5] END max_depth=200, max_features=sqrt, n_estimators=110;, score=0.754 total time=   0.3s\n",
      "[CV 5/5] END max_depth=200, max_features=sqrt, n_estimators=110;, score=0.838 total time=   0.4s\n",
      "[CV 1/5] END max_depth=200, max_features=log2, n_estimators=10;, score=0.825 total time=   0.0s\n",
      "[CV 2/5] END max_depth=200, max_features=log2, n_estimators=10;, score=0.790 total time=   0.0s\n",
      "[CV 3/5] END max_depth=200, max_features=log2, n_estimators=10;, score=0.817 total time=   0.0s\n",
      "[CV 4/5] END max_depth=200, max_features=log2, n_estimators=10;, score=0.768 total time=   0.0s\n",
      "[CV 5/5] END max_depth=200, max_features=log2, n_estimators=10;, score=0.831 total time=   0.0s\n",
      "[CV 1/5] END max_depth=200, max_features=log2, n_estimators=30;, score=0.776 total time=   0.0s\n",
      "[CV 2/5] END max_depth=200, max_features=log2, n_estimators=30;, score=0.804 total time=   0.0s\n",
      "[CV 3/5] END max_depth=200, max_features=log2, n_estimators=30;, score=0.789 total time=   0.0s\n",
      "[CV 4/5] END max_depth=200, max_features=log2, n_estimators=30;, score=0.761 total time=   0.0s\n",
      "[CV 5/5] END max_depth=200, max_features=log2, n_estimators=30;, score=0.824 total time=   0.0s\n",
      "[CV 1/5] END max_depth=200, max_features=log2, n_estimators=50;, score=0.776 total time=   0.1s\n",
      "[CV 2/5] END max_depth=200, max_features=log2, n_estimators=50;, score=0.797 total time=   0.1s\n",
      "[CV 3/5] END max_depth=200, max_features=log2, n_estimators=50;, score=0.817 total time=   0.1s\n",
      "[CV 4/5] END max_depth=200, max_features=log2, n_estimators=50;, score=0.754 total time=   0.1s\n",
      "[CV 5/5] END max_depth=200, max_features=log2, n_estimators=50;, score=0.838 total time=   0.1s\n",
      "[CV 1/5] END max_depth=200, max_features=log2, n_estimators=70;, score=0.776 total time=   0.1s\n",
      "[CV 2/5] END max_depth=200, max_features=log2, n_estimators=70;, score=0.783 total time=   0.2s\n",
      "[CV 3/5] END max_depth=200, max_features=log2, n_estimators=70;, score=0.810 total time=   0.2s\n",
      "[CV 4/5] END max_depth=200, max_features=log2, n_estimators=70;, score=0.775 total time=   0.2s\n",
      "[CV 5/5] END max_depth=200, max_features=log2, n_estimators=70;, score=0.831 total time=   0.1s\n",
      "[CV 1/5] END max_depth=200, max_features=log2, n_estimators=90;, score=0.769 total time=   0.2s\n",
      "[CV 2/5] END max_depth=200, max_features=log2, n_estimators=90;, score=0.783 total time=   0.2s\n",
      "[CV 3/5] END max_depth=200, max_features=log2, n_estimators=90;, score=0.789 total time=   0.2s\n",
      "[CV 4/5] END max_depth=200, max_features=log2, n_estimators=90;, score=0.775 total time=   0.2s\n",
      "[CV 5/5] END max_depth=200, max_features=log2, n_estimators=90;, score=0.838 total time=   0.2s\n",
      "[CV 1/5] END max_depth=200, max_features=log2, n_estimators=110;, score=0.783 total time=   0.3s\n",
      "[CV 2/5] END max_depth=200, max_features=log2, n_estimators=110;, score=0.804 total time=   0.3s\n",
      "[CV 3/5] END max_depth=200, max_features=log2, n_estimators=110;, score=0.803 total time=   0.3s\n",
      "[CV 4/5] END max_depth=200, max_features=log2, n_estimators=110;, score=0.761 total time=   0.3s\n",
      "[CV 5/5] END max_depth=200, max_features=log2, n_estimators=110;, score=0.831 total time=   0.4s\n",
      "[CV 1/5] END max_depth=250, max_features=auto, n_estimators=10;, score=nan total time=   0.0s\n",
      "[CV 2/5] END max_depth=250, max_features=auto, n_estimators=10;, score=nan total time=   0.0s\n",
      "[CV 3/5] END max_depth=250, max_features=auto, n_estimators=10;, score=nan total time=   0.0s\n",
      "[CV 4/5] END max_depth=250, max_features=auto, n_estimators=10;, score=nan total time=   0.0s\n",
      "[CV 5/5] END max_depth=250, max_features=auto, n_estimators=10;, score=nan total time=   0.0s\n",
      "[CV 1/5] END max_depth=250, max_features=auto, n_estimators=30;, score=nan total time=   0.0s\n",
      "[CV 2/5] END max_depth=250, max_features=auto, n_estimators=30;, score=nan total time=   0.0s\n",
      "[CV 3/5] END max_depth=250, max_features=auto, n_estimators=30;, score=nan total time=   0.0s\n",
      "[CV 4/5] END max_depth=250, max_features=auto, n_estimators=30;, score=nan total time=   0.0s\n",
      "[CV 5/5] END max_depth=250, max_features=auto, n_estimators=30;, score=nan total time=   0.0s\n",
      "[CV 1/5] END max_depth=250, max_features=auto, n_estimators=50;, score=nan total time=   0.0s\n",
      "[CV 2/5] END max_depth=250, max_features=auto, n_estimators=50;, score=nan total time=   0.0s\n",
      "[CV 3/5] END max_depth=250, max_features=auto, n_estimators=50;, score=nan total time=   0.0s\n",
      "[CV 4/5] END max_depth=250, max_features=auto, n_estimators=50;, score=nan total time=   0.0s\n",
      "[CV 5/5] END max_depth=250, max_features=auto, n_estimators=50;, score=nan total time=   0.0s\n",
      "[CV 1/5] END max_depth=250, max_features=auto, n_estimators=70;, score=nan total time=   0.0s\n",
      "[CV 2/5] END max_depth=250, max_features=auto, n_estimators=70;, score=nan total time=   0.0s\n",
      "[CV 3/5] END max_depth=250, max_features=auto, n_estimators=70;, score=nan total time=   0.0s\n",
      "[CV 4/5] END max_depth=250, max_features=auto, n_estimators=70;, score=nan total time=   0.0s\n",
      "[CV 5/5] END max_depth=250, max_features=auto, n_estimators=70;, score=nan total time=   0.0s\n",
      "[CV 1/5] END max_depth=250, max_features=auto, n_estimators=90;, score=nan total time=   0.0s\n",
      "[CV 2/5] END max_depth=250, max_features=auto, n_estimators=90;, score=nan total time=   0.0s\n",
      "[CV 3/5] END max_depth=250, max_features=auto, n_estimators=90;, score=nan total time=   0.0s\n",
      "[CV 4/5] END max_depth=250, max_features=auto, n_estimators=90;, score=nan total time=   0.0s\n",
      "[CV 5/5] END max_depth=250, max_features=auto, n_estimators=90;, score=nan total time=   0.0s\n",
      "[CV 1/5] END max_depth=250, max_features=auto, n_estimators=110;, score=nan total time=   0.0s\n",
      "[CV 2/5] END max_depth=250, max_features=auto, n_estimators=110;, score=nan total time=   0.0s\n",
      "[CV 3/5] END max_depth=250, max_features=auto, n_estimators=110;, score=nan total time=   0.0s\n",
      "[CV 4/5] END max_depth=250, max_features=auto, n_estimators=110;, score=nan total time=   0.0s\n",
      "[CV 5/5] END max_depth=250, max_features=auto, n_estimators=110;, score=nan total time=   0.0s\n",
      "[CV 1/5] END max_depth=250, max_features=sqrt, n_estimators=10;, score=0.783 total time=   0.0s\n",
      "[CV 2/5] END max_depth=250, max_features=sqrt, n_estimators=10;, score=0.811 total time=   0.0s\n",
      "[CV 3/5] END max_depth=250, max_features=sqrt, n_estimators=10;, score=0.810 total time=   0.0s\n",
      "[CV 4/5] END max_depth=250, max_features=sqrt, n_estimators=10;, score=0.761 total time=   0.0s\n",
      "[CV 5/5] END max_depth=250, max_features=sqrt, n_estimators=10;, score=0.789 total time=   0.0s\n",
      "[CV 1/5] END max_depth=250, max_features=sqrt, n_estimators=30;, score=0.790 total time=   0.0s\n",
      "[CV 2/5] END max_depth=250, max_features=sqrt, n_estimators=30;, score=0.804 total time=   0.0s\n",
      "[CV 3/5] END max_depth=250, max_features=sqrt, n_estimators=30;, score=0.824 total time=   0.0s\n",
      "[CV 4/5] END max_depth=250, max_features=sqrt, n_estimators=30;, score=0.761 total time=   0.2s\n",
      "[CV 5/5] END max_depth=250, max_features=sqrt, n_estimators=30;, score=0.824 total time=   0.1s\n",
      "[CV 1/5] END max_depth=250, max_features=sqrt, n_estimators=50;, score=0.783 total time=   0.2s\n",
      "[CV 2/5] END max_depth=250, max_features=sqrt, n_estimators=50;, score=0.804 total time=   0.1s\n",
      "[CV 3/5] END max_depth=250, max_features=sqrt, n_estimators=50;, score=0.817 total time=   0.2s\n",
      "[CV 4/5] END max_depth=250, max_features=sqrt, n_estimators=50;, score=0.768 total time=   0.1s\n",
      "[CV 5/5] END max_depth=250, max_features=sqrt, n_estimators=50;, score=0.831 total time=   0.1s\n",
      "[CV 1/5] END max_depth=250, max_features=sqrt, n_estimators=70;, score=0.776 total time=   0.2s\n",
      "[CV 2/5] END max_depth=250, max_features=sqrt, n_estimators=70;, score=0.797 total time=   0.2s\n",
      "[CV 3/5] END max_depth=250, max_features=sqrt, n_estimators=70;, score=0.803 total time=   0.1s\n",
      "[CV 4/5] END max_depth=250, max_features=sqrt, n_estimators=70;, score=0.761 total time=   0.2s\n",
      "[CV 5/5] END max_depth=250, max_features=sqrt, n_estimators=70;, score=0.831 total time=   0.2s\n",
      "[CV 1/5] END max_depth=250, max_features=sqrt, n_estimators=90;, score=0.790 total time=   0.2s\n",
      "[CV 2/5] END max_depth=250, max_features=sqrt, n_estimators=90;, score=0.790 total time=   0.2s\n",
      "[CV 3/5] END max_depth=250, max_features=sqrt, n_estimators=90;, score=0.796 total time=   0.2s\n",
      "[CV 4/5] END max_depth=250, max_features=sqrt, n_estimators=90;, score=0.768 total time=   0.2s\n",
      "[CV 5/5] END max_depth=250, max_features=sqrt, n_estimators=90;, score=0.838 total time=   0.2s\n",
      "[CV 1/5] END max_depth=250, max_features=sqrt, n_estimators=110;, score=0.776 total time=   0.3s\n",
      "[CV 2/5] END max_depth=250, max_features=sqrt, n_estimators=110;, score=0.797 total time=   0.3s\n",
      "[CV 3/5] END max_depth=250, max_features=sqrt, n_estimators=110;, score=0.803 total time=   0.3s\n",
      "[CV 4/5] END max_depth=250, max_features=sqrt, n_estimators=110;, score=0.768 total time=   0.3s\n",
      "[CV 5/5] END max_depth=250, max_features=sqrt, n_estimators=110;, score=0.831 total time=   0.3s\n",
      "[CV 1/5] END max_depth=250, max_features=log2, n_estimators=10;, score=0.769 total time=   0.0s\n",
      "[CV 2/5] END max_depth=250, max_features=log2, n_estimators=10;, score=0.783 total time=   0.0s\n",
      "[CV 3/5] END max_depth=250, max_features=log2, n_estimators=10;, score=0.796 total time=   0.0s\n",
      "[CV 4/5] END max_depth=250, max_features=log2, n_estimators=10;, score=0.761 total time=   0.0s\n",
      "[CV 5/5] END max_depth=250, max_features=log2, n_estimators=10;, score=0.824 total time=   0.0s\n",
      "[CV 1/5] END max_depth=250, max_features=log2, n_estimators=30;, score=0.790 total time=   0.0s\n",
      "[CV 2/5] END max_depth=250, max_features=log2, n_estimators=30;, score=0.797 total time=   0.0s\n",
      "[CV 3/5] END max_depth=250, max_features=log2, n_estimators=30;, score=0.810 total time=   0.0s\n",
      "[CV 4/5] END max_depth=250, max_features=log2, n_estimators=30;, score=0.775 total time=   0.0s\n",
      "[CV 5/5] END max_depth=250, max_features=log2, n_estimators=30;, score=0.838 total time=   0.0s\n",
      "[CV 1/5] END max_depth=250, max_features=log2, n_estimators=50;, score=0.797 total time=   0.1s\n",
      "[CV 2/5] END max_depth=250, max_features=log2, n_estimators=50;, score=0.818 total time=   0.1s\n",
      "[CV 3/5] END max_depth=250, max_features=log2, n_estimators=50;, score=0.817 total time=   0.1s\n",
      "[CV 4/5] END max_depth=250, max_features=log2, n_estimators=50;, score=0.782 total time=   0.1s\n",
      "[CV 5/5] END max_depth=250, max_features=log2, n_estimators=50;, score=0.838 total time=   0.1s\n",
      "[CV 1/5] END max_depth=250, max_features=log2, n_estimators=70;, score=0.790 total time=   0.2s\n",
      "[CV 2/5] END max_depth=250, max_features=log2, n_estimators=70;, score=0.804 total time=   0.2s\n",
      "[CV 3/5] END max_depth=250, max_features=log2, n_estimators=70;, score=0.803 total time=   0.1s\n",
      "[CV 4/5] END max_depth=250, max_features=log2, n_estimators=70;, score=0.754 total time=   0.1s\n",
      "[CV 5/5] END max_depth=250, max_features=log2, n_estimators=70;, score=0.824 total time=   0.2s\n",
      "[CV 1/5] END max_depth=250, max_features=log2, n_estimators=90;, score=0.769 total time=   0.2s\n",
      "[CV 2/5] END max_depth=250, max_features=log2, n_estimators=90;, score=0.797 total time=   0.2s\n",
      "[CV 3/5] END max_depth=250, max_features=log2, n_estimators=90;, score=0.803 total time=   0.2s\n",
      "[CV 4/5] END max_depth=250, max_features=log2, n_estimators=90;, score=0.761 total time=   0.2s\n",
      "[CV 5/5] END max_depth=250, max_features=log2, n_estimators=90;, score=0.838 total time=   0.2s\n",
      "[CV 1/5] END max_depth=250, max_features=log2, n_estimators=110;, score=0.790 total time=   0.3s\n",
      "[CV 2/5] END max_depth=250, max_features=log2, n_estimators=110;, score=0.797 total time=   0.3s\n",
      "[CV 3/5] END max_depth=250, max_features=log2, n_estimators=110;, score=0.803 total time=   0.4s\n",
      "[CV 4/5] END max_depth=250, max_features=log2, n_estimators=110;, score=0.761 total time=   0.4s\n",
      "[CV 5/5] END max_depth=250, max_features=log2, n_estimators=110;, score=0.824 total time=   0.6s\n",
      "[CV 1/5] END max_depth=300, max_features=auto, n_estimators=10;, score=nan total time=   0.0s\n",
      "[CV 2/5] END max_depth=300, max_features=auto, n_estimators=10;, score=nan total time=   0.0s\n",
      "[CV 3/5] END max_depth=300, max_features=auto, n_estimators=10;, score=nan total time=   0.0s\n",
      "[CV 4/5] END max_depth=300, max_features=auto, n_estimators=10;, score=nan total time=   0.0s\n",
      "[CV 5/5] END max_depth=300, max_features=auto, n_estimators=10;, score=nan total time=   0.0s\n",
      "[CV 1/5] END max_depth=300, max_features=auto, n_estimators=30;, score=nan total time=   0.0s\n",
      "[CV 2/5] END max_depth=300, max_features=auto, n_estimators=30;, score=nan total time=   0.0s\n",
      "[CV 3/5] END max_depth=300, max_features=auto, n_estimators=30;, score=nan total time=   0.0s\n",
      "[CV 4/5] END max_depth=300, max_features=auto, n_estimators=30;, score=nan total time=   0.0s\n",
      "[CV 5/5] END max_depth=300, max_features=auto, n_estimators=30;, score=nan total time=   0.0s\n",
      "[CV 1/5] END max_depth=300, max_features=auto, n_estimators=50;, score=nan total time=   0.0s\n",
      "[CV 2/5] END max_depth=300, max_features=auto, n_estimators=50;, score=nan total time=   0.0s\n",
      "[CV 3/5] END max_depth=300, max_features=auto, n_estimators=50;, score=nan total time=   0.0s\n",
      "[CV 4/5] END max_depth=300, max_features=auto, n_estimators=50;, score=nan total time=   0.0s\n",
      "[CV 5/5] END max_depth=300, max_features=auto, n_estimators=50;, score=nan total time=   0.0s\n",
      "[CV 1/5] END max_depth=300, max_features=auto, n_estimators=70;, score=nan total time=   0.0s\n",
      "[CV 2/5] END max_depth=300, max_features=auto, n_estimators=70;, score=nan total time=   0.0s\n",
      "[CV 3/5] END max_depth=300, max_features=auto, n_estimators=70;, score=nan total time=   0.0s\n",
      "[CV 4/5] END max_depth=300, max_features=auto, n_estimators=70;, score=nan total time=   0.0s\n",
      "[CV 5/5] END max_depth=300, max_features=auto, n_estimators=70;, score=nan total time=   0.0s\n",
      "[CV 1/5] END max_depth=300, max_features=auto, n_estimators=90;, score=nan total time=   0.0s\n",
      "[CV 2/5] END max_depth=300, max_features=auto, n_estimators=90;, score=nan total time=   0.0s\n",
      "[CV 3/5] END max_depth=300, max_features=auto, n_estimators=90;, score=nan total time=   0.0s\n",
      "[CV 4/5] END max_depth=300, max_features=auto, n_estimators=90;, score=nan total time=   0.0s\n",
      "[CV 5/5] END max_depth=300, max_features=auto, n_estimators=90;, score=nan total time=   0.0s\n",
      "[CV 1/5] END max_depth=300, max_features=auto, n_estimators=110;, score=nan total time=   0.0s\n",
      "[CV 2/5] END max_depth=300, max_features=auto, n_estimators=110;, score=nan total time=   0.0s\n",
      "[CV 3/5] END max_depth=300, max_features=auto, n_estimators=110;, score=nan total time=   0.0s\n",
      "[CV 4/5] END max_depth=300, max_features=auto, n_estimators=110;, score=nan total time=   0.0s\n",
      "[CV 5/5] END max_depth=300, max_features=auto, n_estimators=110;, score=nan total time=   0.0s\n",
      "[CV 1/5] END max_depth=300, max_features=sqrt, n_estimators=10;, score=0.776 total time=   0.0s\n",
      "[CV 2/5] END max_depth=300, max_features=sqrt, n_estimators=10;, score=0.825 total time=   0.0s\n",
      "[CV 3/5] END max_depth=300, max_features=sqrt, n_estimators=10;, score=0.803 total time=   0.0s\n",
      "[CV 4/5] END max_depth=300, max_features=sqrt, n_estimators=10;, score=0.768 total time=   0.0s\n",
      "[CV 5/5] END max_depth=300, max_features=sqrt, n_estimators=10;, score=0.803 total time=   0.0s\n",
      "[CV 1/5] END max_depth=300, max_features=sqrt, n_estimators=30;, score=0.790 total time=   0.0s\n",
      "[CV 2/5] END max_depth=300, max_features=sqrt, n_estimators=30;, score=0.797 total time=   0.0s\n",
      "[CV 3/5] END max_depth=300, max_features=sqrt, n_estimators=30;, score=0.789 total time=   0.0s\n",
      "[CV 4/5] END max_depth=300, max_features=sqrt, n_estimators=30;, score=0.782 total time=   0.0s\n",
      "[CV 5/5] END max_depth=300, max_features=sqrt, n_estimators=30;, score=0.831 total time=   0.0s\n",
      "[CV 1/5] END max_depth=300, max_features=sqrt, n_estimators=50;, score=0.783 total time=   0.1s\n",
      "[CV 2/5] END max_depth=300, max_features=sqrt, n_estimators=50;, score=0.804 total time=   0.1s\n",
      "[CV 3/5] END max_depth=300, max_features=sqrt, n_estimators=50;, score=0.824 total time=   0.1s\n",
      "[CV 4/5] END max_depth=300, max_features=sqrt, n_estimators=50;, score=0.775 total time=   0.1s\n",
      "[CV 5/5] END max_depth=300, max_features=sqrt, n_estimators=50;, score=0.824 total time=   0.1s\n",
      "[CV 1/5] END max_depth=300, max_features=sqrt, n_estimators=70;, score=0.783 total time=   0.1s\n",
      "[CV 2/5] END max_depth=300, max_features=sqrt, n_estimators=70;, score=0.811 total time=   0.1s\n",
      "[CV 3/5] END max_depth=300, max_features=sqrt, n_estimators=70;, score=0.817 total time=   0.2s\n",
      "[CV 4/5] END max_depth=300, max_features=sqrt, n_estimators=70;, score=0.761 total time=   0.1s\n",
      "[CV 5/5] END max_depth=300, max_features=sqrt, n_estimators=70;, score=0.838 total time=   0.2s\n",
      "[CV 1/5] END max_depth=300, max_features=sqrt, n_estimators=90;, score=0.783 total time=   0.2s\n",
      "[CV 2/5] END max_depth=300, max_features=sqrt, n_estimators=90;, score=0.811 total time=   0.3s\n",
      "[CV 3/5] END max_depth=300, max_features=sqrt, n_estimators=90;, score=0.796 total time=   0.4s\n",
      "[CV 4/5] END max_depth=300, max_features=sqrt, n_estimators=90;, score=0.761 total time=   0.4s\n",
      "[CV 5/5] END max_depth=300, max_features=sqrt, n_estimators=90;, score=0.824 total time=   0.4s\n",
      "[CV 1/5] END max_depth=300, max_features=sqrt, n_estimators=110;, score=0.790 total time=   0.4s\n",
      "[CV 2/5] END max_depth=300, max_features=sqrt, n_estimators=110;, score=0.783 total time=   0.6s\n",
      "[CV 3/5] END max_depth=300, max_features=sqrt, n_estimators=110;, score=0.817 total time=   1.7s\n",
      "[CV 4/5] END max_depth=300, max_features=sqrt, n_estimators=110;, score=0.754 total time=   1.1s\n",
      "[CV 5/5] END max_depth=300, max_features=sqrt, n_estimators=110;, score=0.838 total time=   1.0s\n",
      "[CV 1/5] END max_depth=300, max_features=log2, n_estimators=10;, score=0.783 total time=   0.0s\n",
      "[CV 2/5] END max_depth=300, max_features=log2, n_estimators=10;, score=0.797 total time=   0.0s\n",
      "[CV 3/5] END max_depth=300, max_features=log2, n_estimators=10;, score=0.796 total time=   0.0s\n",
      "[CV 4/5] END max_depth=300, max_features=log2, n_estimators=10;, score=0.746 total time=   0.0s\n",
      "[CV 5/5] END max_depth=300, max_features=log2, n_estimators=10;, score=0.831 total time=   0.0s\n",
      "[CV 1/5] END max_depth=300, max_features=log2, n_estimators=30;, score=0.762 total time=   0.3s\n",
      "[CV 2/5] END max_depth=300, max_features=log2, n_estimators=30;, score=0.825 total time=   0.2s\n",
      "[CV 3/5] END max_depth=300, max_features=log2, n_estimators=30;, score=0.789 total time=   0.2s\n",
      "[CV 4/5] END max_depth=300, max_features=log2, n_estimators=30;, score=0.754 total time=   0.1s\n",
      "[CV 5/5] END max_depth=300, max_features=log2, n_estimators=30;, score=0.831 total time=   0.3s\n",
      "[CV 1/5] END max_depth=300, max_features=log2, n_estimators=50;, score=0.783 total time=   0.3s\n",
      "[CV 2/5] END max_depth=300, max_features=log2, n_estimators=50;, score=0.776 total time=   0.3s\n",
      "[CV 3/5] END max_depth=300, max_features=log2, n_estimators=50;, score=0.796 total time=   0.3s\n",
      "[CV 4/5] END max_depth=300, max_features=log2, n_estimators=50;, score=0.761 total time=   0.4s\n",
      "[CV 5/5] END max_depth=300, max_features=log2, n_estimators=50;, score=0.824 total time=   0.1s\n",
      "[CV 1/5] END max_depth=300, max_features=log2, n_estimators=70;, score=0.783 total time=   0.8s\n",
      "[CV 2/5] END max_depth=300, max_features=log2, n_estimators=70;, score=0.804 total time=   0.6s\n",
      "[CV 3/5] END max_depth=300, max_features=log2, n_estimators=70;, score=0.803 total time=   0.4s\n",
      "[CV 4/5] END max_depth=300, max_features=log2, n_estimators=70;, score=0.761 total time=   0.3s\n",
      "[CV 5/5] END max_depth=300, max_features=log2, n_estimators=70;, score=0.845 total time=   0.2s\n",
      "[CV 1/5] END max_depth=300, max_features=log2, n_estimators=90;, score=0.776 total time=   1.0s\n",
      "[CV 2/5] END max_depth=300, max_features=log2, n_estimators=90;, score=0.790 total time=   0.7s\n",
      "[CV 3/5] END max_depth=300, max_features=log2, n_estimators=90;, score=0.803 total time=   0.9s\n",
      "[CV 4/5] END max_depth=300, max_features=log2, n_estimators=90;, score=0.768 total time=   2.0s\n",
      "[CV 5/5] END max_depth=300, max_features=log2, n_estimators=90;, score=0.831 total time=   0.6s\n",
      "[CV 1/5] END max_depth=300, max_features=log2, n_estimators=110;, score=0.769 total time=   0.8s\n",
      "[CV 2/5] END max_depth=300, max_features=log2, n_estimators=110;, score=0.797 total time=   0.6s\n",
      "[CV 3/5] END max_depth=300, max_features=log2, n_estimators=110;, score=0.803 total time=   1.1s\n",
      "[CV 4/5] END max_depth=300, max_features=log2, n_estimators=110;, score=0.768 total time=   1.0s\n",
      "[CV 5/5] END max_depth=300, max_features=log2, n_estimators=110;, score=0.845 total time=   0.6s\n",
      "[CV 1/5] END max_depth=350, max_features=auto, n_estimators=10;, score=nan total time=   0.0s\n",
      "[CV 2/5] END max_depth=350, max_features=auto, n_estimators=10;, score=nan total time=   0.0s\n",
      "[CV 3/5] END max_depth=350, max_features=auto, n_estimators=10;, score=nan total time=   0.0s\n",
      "[CV 4/5] END max_depth=350, max_features=auto, n_estimators=10;, score=nan total time=   0.0s\n",
      "[CV 5/5] END max_depth=350, max_features=auto, n_estimators=10;, score=nan total time=   0.0s\n",
      "[CV 1/5] END max_depth=350, max_features=auto, n_estimators=30;, score=nan total time=   0.0s\n",
      "[CV 2/5] END max_depth=350, max_features=auto, n_estimators=30;, score=nan total time=   0.0s\n",
      "[CV 3/5] END max_depth=350, max_features=auto, n_estimators=30;, score=nan total time=   0.0s\n",
      "[CV 4/5] END max_depth=350, max_features=auto, n_estimators=30;, score=nan total time=   0.0s\n",
      "[CV 5/5] END max_depth=350, max_features=auto, n_estimators=30;, score=nan total time=   0.0s\n",
      "[CV 1/5] END max_depth=350, max_features=auto, n_estimators=50;, score=nan total time=   0.0s\n",
      "[CV 2/5] END max_depth=350, max_features=auto, n_estimators=50;, score=nan total time=   0.0s\n",
      "[CV 3/5] END max_depth=350, max_features=auto, n_estimators=50;, score=nan total time=   0.0s\n",
      "[CV 4/5] END max_depth=350, max_features=auto, n_estimators=50;, score=nan total time=   0.0s\n",
      "[CV 5/5] END max_depth=350, max_features=auto, n_estimators=50;, score=nan total time=   0.0s\n",
      "[CV 1/5] END max_depth=350, max_features=auto, n_estimators=70;, score=nan total time=   0.0s\n",
      "[CV 2/5] END max_depth=350, max_features=auto, n_estimators=70;, score=nan total time=   0.0s\n",
      "[CV 3/5] END max_depth=350, max_features=auto, n_estimators=70;, score=nan total time=   0.0s\n",
      "[CV 4/5] END max_depth=350, max_features=auto, n_estimators=70;, score=nan total time=   0.0s\n",
      "[CV 5/5] END max_depth=350, max_features=auto, n_estimators=70;, score=nan total time=   0.0s\n",
      "[CV 1/5] END max_depth=350, max_features=auto, n_estimators=90;, score=nan total time=   0.0s\n",
      "[CV 2/5] END max_depth=350, max_features=auto, n_estimators=90;, score=nan total time=   0.0s\n",
      "[CV 3/5] END max_depth=350, max_features=auto, n_estimators=90;, score=nan total time=   0.0s\n",
      "[CV 4/5] END max_depth=350, max_features=auto, n_estimators=90;, score=nan total time=   0.0s\n",
      "[CV 5/5] END max_depth=350, max_features=auto, n_estimators=90;, score=nan total time=   0.0s\n",
      "[CV 1/5] END max_depth=350, max_features=auto, n_estimators=110;, score=nan total time=   0.0s\n",
      "[CV 2/5] END max_depth=350, max_features=auto, n_estimators=110;, score=nan total time=   0.0s\n",
      "[CV 3/5] END max_depth=350, max_features=auto, n_estimators=110;, score=nan total time=   0.0s\n",
      "[CV 4/5] END max_depth=350, max_features=auto, n_estimators=110;, score=nan total time=   0.0s\n",
      "[CV 5/5] END max_depth=350, max_features=auto, n_estimators=110;, score=nan total time=   0.0s\n",
      "[CV 1/5] END max_depth=350, max_features=sqrt, n_estimators=10;, score=0.748 total time=   0.0s\n",
      "[CV 2/5] END max_depth=350, max_features=sqrt, n_estimators=10;, score=0.790 total time=   0.0s\n",
      "[CV 3/5] END max_depth=350, max_features=sqrt, n_estimators=10;, score=0.796 total time=   0.0s\n",
      "[CV 4/5] END max_depth=350, max_features=sqrt, n_estimators=10;, score=0.775 total time=   0.0s\n",
      "[CV 5/5] END max_depth=350, max_features=sqrt, n_estimators=10;, score=0.782 total time=   0.1s\n",
      "[CV 1/5] END max_depth=350, max_features=sqrt, n_estimators=30;, score=0.804 total time=   0.2s\n",
      "[CV 2/5] END max_depth=350, max_features=sqrt, n_estimators=30;, score=0.811 total time=   0.1s\n",
      "[CV 3/5] END max_depth=350, max_features=sqrt, n_estimators=30;, score=0.789 total time=   0.1s\n",
      "[CV 4/5] END max_depth=350, max_features=sqrt, n_estimators=30;, score=0.775 total time=   0.1s\n",
      "[CV 5/5] END max_depth=350, max_features=sqrt, n_estimators=30;, score=0.831 total time=   0.1s\n",
      "[CV 1/5] END max_depth=350, max_features=sqrt, n_estimators=50;, score=0.762 total time=   0.7s\n",
      "[CV 2/5] END max_depth=350, max_features=sqrt, n_estimators=50;, score=0.776 total time=   0.2s\n",
      "[CV 3/5] END max_depth=350, max_features=sqrt, n_estimators=50;, score=0.796 total time=   1.1s\n",
      "[CV 4/5] END max_depth=350, max_features=sqrt, n_estimators=50;, score=0.782 total time=   0.7s\n",
      "[CV 5/5] END max_depth=350, max_features=sqrt, n_estimators=50;, score=0.845 total time=   0.3s\n",
      "[CV 1/5] END max_depth=350, max_features=sqrt, n_estimators=70;, score=0.769 total time=   0.3s\n",
      "[CV 2/5] END max_depth=350, max_features=sqrt, n_estimators=70;, score=0.811 total time=   0.3s\n",
      "[CV 3/5] END max_depth=350, max_features=sqrt, n_estimators=70;, score=0.803 total time=   0.4s\n",
      "[CV 4/5] END max_depth=350, max_features=sqrt, n_estimators=70;, score=0.768 total time=   0.7s\n",
      "[CV 5/5] END max_depth=350, max_features=sqrt, n_estimators=70;, score=0.831 total time=   0.3s\n",
      "[CV 1/5] END max_depth=350, max_features=sqrt, n_estimators=90;, score=0.776 total time=   0.4s\n",
      "[CV 2/5] END max_depth=350, max_features=sqrt, n_estimators=90;, score=0.804 total time=   0.5s\n",
      "[CV 3/5] END max_depth=350, max_features=sqrt, n_estimators=90;, score=0.817 total time=   0.5s\n",
      "[CV 4/5] END max_depth=350, max_features=sqrt, n_estimators=90;, score=0.768 total time=   0.9s\n",
      "[CV 5/5] END max_depth=350, max_features=sqrt, n_estimators=90;, score=0.838 total time=   0.4s\n",
      "[CV 1/5] END max_depth=350, max_features=sqrt, n_estimators=110;, score=0.769 total time=   0.5s\n",
      "[CV 2/5] END max_depth=350, max_features=sqrt, n_estimators=110;, score=0.797 total time=   0.7s\n",
      "[CV 3/5] END max_depth=350, max_features=sqrt, n_estimators=110;, score=0.796 total time=   0.5s\n",
      "[CV 4/5] END max_depth=350, max_features=sqrt, n_estimators=110;, score=0.775 total time=   0.4s\n",
      "[CV 5/5] END max_depth=350, max_features=sqrt, n_estimators=110;, score=0.817 total time=   0.4s\n",
      "[CV 1/5] END max_depth=350, max_features=log2, n_estimators=10;, score=0.727 total time=   0.0s\n",
      "[CV 2/5] END max_depth=350, max_features=log2, n_estimators=10;, score=0.797 total time=   0.0s\n",
      "[CV 3/5] END max_depth=350, max_features=log2, n_estimators=10;, score=0.817 total time=   0.0s\n",
      "[CV 4/5] END max_depth=350, max_features=log2, n_estimators=10;, score=0.754 total time=   0.0s\n",
      "[CV 5/5] END max_depth=350, max_features=log2, n_estimators=10;, score=0.831 total time=   0.0s\n",
      "[CV 1/5] END max_depth=350, max_features=log2, n_estimators=30;, score=0.804 total time=   0.0s\n",
      "[CV 2/5] END max_depth=350, max_features=log2, n_estimators=30;, score=0.790 total time=   0.0s\n",
      "[CV 3/5] END max_depth=350, max_features=log2, n_estimators=30;, score=0.824 total time=   0.0s\n",
      "[CV 4/5] END max_depth=350, max_features=log2, n_estimators=30;, score=0.768 total time=   0.0s\n",
      "[CV 5/5] END max_depth=350, max_features=log2, n_estimators=30;, score=0.831 total time=   0.0s\n",
      "[CV 1/5] END max_depth=350, max_features=log2, n_estimators=50;, score=0.762 total time=   0.1s\n",
      "[CV 2/5] END max_depth=350, max_features=log2, n_estimators=50;, score=0.804 total time=   0.1s\n",
      "[CV 3/5] END max_depth=350, max_features=log2, n_estimators=50;, score=0.789 total time=   0.1s\n",
      "[CV 4/5] END max_depth=350, max_features=log2, n_estimators=50;, score=0.754 total time=   0.1s\n",
      "[CV 5/5] END max_depth=350, max_features=log2, n_estimators=50;, score=0.831 total time=   0.1s\n",
      "[CV 1/5] END max_depth=350, max_features=log2, n_estimators=70;, score=0.776 total time=   0.2s\n",
      "[CV 2/5] END max_depth=350, max_features=log2, n_estimators=70;, score=0.790 total time=   0.2s\n",
      "[CV 3/5] END max_depth=350, max_features=log2, n_estimators=70;, score=0.796 total time=   0.2s\n",
      "[CV 4/5] END max_depth=350, max_features=log2, n_estimators=70;, score=0.754 total time=   0.2s\n",
      "[CV 5/5] END max_depth=350, max_features=log2, n_estimators=70;, score=0.824 total time=   0.2s\n",
      "[CV 1/5] END max_depth=350, max_features=log2, n_estimators=90;, score=0.783 total time=   0.4s\n",
      "[CV 2/5] END max_depth=350, max_features=log2, n_estimators=90;, score=0.804 total time=   0.2s\n",
      "[CV 3/5] END max_depth=350, max_features=log2, n_estimators=90;, score=0.803 total time=   0.2s\n",
      "[CV 4/5] END max_depth=350, max_features=log2, n_estimators=90;, score=0.768 total time=   0.3s\n",
      "[CV 5/5] END max_depth=350, max_features=log2, n_estimators=90;, score=0.838 total time=   0.3s\n",
      "[CV 1/5] END max_depth=350, max_features=log2, n_estimators=110;, score=0.790 total time=   0.3s\n",
      "[CV 2/5] END max_depth=350, max_features=log2, n_estimators=110;, score=0.804 total time=   0.3s\n",
      "[CV 3/5] END max_depth=350, max_features=log2, n_estimators=110;, score=0.796 total time=   0.4s\n",
      "[CV 4/5] END max_depth=350, max_features=log2, n_estimators=110;, score=0.754 total time=   0.4s\n",
      "[CV 5/5] END max_depth=350, max_features=log2, n_estimators=110;, score=0.824 total time=   0.3s\n"
     ]
    },
    {
     "data": {
      "text/html": [
       "<style>#sk-container-id-2 {color: black;}#sk-container-id-2 pre{padding: 0;}#sk-container-id-2 div.sk-toggleable {background-color: white;}#sk-container-id-2 label.sk-toggleable__label {cursor: pointer;display: block;width: 100%;margin-bottom: 0;padding: 0.3em;box-sizing: border-box;text-align: center;}#sk-container-id-2 label.sk-toggleable__label-arrow:before {content: \"▸\";float: left;margin-right: 0.25em;color: #696969;}#sk-container-id-2 label.sk-toggleable__label-arrow:hover:before {color: black;}#sk-container-id-2 div.sk-estimator:hover label.sk-toggleable__label-arrow:before {color: black;}#sk-container-id-2 div.sk-toggleable__content {max-height: 0;max-width: 0;overflow: hidden;text-align: left;background-color: #f0f8ff;}#sk-container-id-2 div.sk-toggleable__content pre {margin: 0.2em;color: black;border-radius: 0.25em;background-color: #f0f8ff;}#sk-container-id-2 input.sk-toggleable__control:checked~div.sk-toggleable__content {max-height: 200px;max-width: 100%;overflow: auto;}#sk-container-id-2 input.sk-toggleable__control:checked~label.sk-toggleable__label-arrow:before {content: \"▾\";}#sk-container-id-2 div.sk-estimator input.sk-toggleable__control:checked~label.sk-toggleable__label {background-color: #d4ebff;}#sk-container-id-2 div.sk-label input.sk-toggleable__control:checked~label.sk-toggleable__label {background-color: #d4ebff;}#sk-container-id-2 input.sk-hidden--visually {border: 0;clip: rect(1px 1px 1px 1px);clip: rect(1px, 1px, 1px, 1px);height: 1px;margin: -1px;overflow: hidden;padding: 0;position: absolute;width: 1px;}#sk-container-id-2 div.sk-estimator {font-family: monospace;background-color: #f0f8ff;border: 1px dotted black;border-radius: 0.25em;box-sizing: border-box;margin-bottom: 0.5em;}#sk-container-id-2 div.sk-estimator:hover {background-color: #d4ebff;}#sk-container-id-2 div.sk-parallel-item::after {content: \"\";width: 100%;border-bottom: 1px solid gray;flex-grow: 1;}#sk-container-id-2 div.sk-label:hover label.sk-toggleable__label {background-color: #d4ebff;}#sk-container-id-2 div.sk-serial::before {content: \"\";position: absolute;border-left: 1px solid gray;box-sizing: border-box;top: 0;bottom: 0;left: 50%;z-index: 0;}#sk-container-id-2 div.sk-serial {display: flex;flex-direction: column;align-items: center;background-color: white;padding-right: 0.2em;padding-left: 0.2em;position: relative;}#sk-container-id-2 div.sk-item {position: relative;z-index: 1;}#sk-container-id-2 div.sk-parallel {display: flex;align-items: stretch;justify-content: center;background-color: white;position: relative;}#sk-container-id-2 div.sk-item::before, #sk-container-id-2 div.sk-parallel-item::before {content: \"\";position: absolute;border-left: 1px solid gray;box-sizing: border-box;top: 0;bottom: 0;left: 50%;z-index: -1;}#sk-container-id-2 div.sk-parallel-item {display: flex;flex-direction: column;z-index: 1;position: relative;background-color: white;}#sk-container-id-2 div.sk-parallel-item:first-child::after {align-self: flex-end;width: 50%;}#sk-container-id-2 div.sk-parallel-item:last-child::after {align-self: flex-start;width: 50%;}#sk-container-id-2 div.sk-parallel-item:only-child::after {width: 0;}#sk-container-id-2 div.sk-dashed-wrapped {border: 1px dashed gray;margin: 0 0.4em 0.5em 0.4em;box-sizing: border-box;padding-bottom: 0.4em;background-color: white;}#sk-container-id-2 div.sk-label label {font-family: monospace;font-weight: bold;display: inline-block;line-height: 1.2em;}#sk-container-id-2 div.sk-label-container {text-align: center;}#sk-container-id-2 div.sk-container {/* jupyter's `normalize.less` sets `[hidden] { display: none; }` but bootstrap.min.css set `[hidden] { display: none !important; }` so we also need the `!important` here to be able to override the default hidden behavior on the sphinx rendered scikit-learn.org. See: https://github.com/scikit-learn/scikit-learn/issues/21755 */display: inline-block !important;position: relative;}#sk-container-id-2 div.sk-text-repr-fallback {display: none;}</style><div id=\"sk-container-id-2\" class=\"sk-top-container\"><div class=\"sk-text-repr-fallback\"><pre>GridSearchCV(estimator=RandomForestClassifier(),\n",
       "             param_grid={&#x27;max_depth&#x27;: [200, 250, 300, 350],\n",
       "                         &#x27;max_features&#x27;: [&#x27;auto&#x27;, &#x27;sqrt&#x27;, &#x27;log2&#x27;],\n",
       "                         &#x27;n_estimators&#x27;: [10, 30, 50, 70, 90, 110]},\n",
       "             verbose=4)</pre><b>In a Jupyter environment, please rerun this cell to show the HTML representation or trust the notebook. <br />On GitHub, the HTML representation is unable to render, please try loading this page with nbviewer.org.</b></div><div class=\"sk-container\" hidden><div class=\"sk-item sk-dashed-wrapped\"><div class=\"sk-label-container\"><div class=\"sk-label sk-toggleable\"><input class=\"sk-toggleable__control sk-hidden--visually\" id=\"sk-estimator-id-4\" type=\"checkbox\" ><label for=\"sk-estimator-id-4\" class=\"sk-toggleable__label sk-toggleable__label-arrow\">GridSearchCV</label><div class=\"sk-toggleable__content\"><pre>GridSearchCV(estimator=RandomForestClassifier(),\n",
       "             param_grid={&#x27;max_depth&#x27;: [200, 250, 300, 350],\n",
       "                         &#x27;max_features&#x27;: [&#x27;auto&#x27;, &#x27;sqrt&#x27;, &#x27;log2&#x27;],\n",
       "                         &#x27;n_estimators&#x27;: [10, 30, 50, 70, 90, 110]},\n",
       "             verbose=4)</pre></div></div></div><div class=\"sk-parallel\"><div class=\"sk-parallel-item\"><div class=\"sk-item\"><div class=\"sk-label-container\"><div class=\"sk-label sk-toggleable\"><input class=\"sk-toggleable__control sk-hidden--visually\" id=\"sk-estimator-id-5\" type=\"checkbox\" ><label for=\"sk-estimator-id-5\" class=\"sk-toggleable__label sk-toggleable__label-arrow\">estimator: RandomForestClassifier</label><div class=\"sk-toggleable__content\"><pre>RandomForestClassifier()</pre></div></div></div><div class=\"sk-serial\"><div class=\"sk-item\"><div class=\"sk-estimator sk-toggleable\"><input class=\"sk-toggleable__control sk-hidden--visually\" id=\"sk-estimator-id-6\" type=\"checkbox\" ><label for=\"sk-estimator-id-6\" class=\"sk-toggleable__label sk-toggleable__label-arrow\">RandomForestClassifier</label><div class=\"sk-toggleable__content\"><pre>RandomForestClassifier()</pre></div></div></div></div></div></div></div></div></div></div>"
      ],
      "text/plain": [
       "GridSearchCV(estimator=RandomForestClassifier(),\n",
       "             param_grid={'max_depth': [200, 250, 300, 350],\n",
       "                         'max_features': ['auto', 'sqrt', 'log2'],\n",
       "                         'n_estimators': [10, 30, 50, 70, 90, 110]},\n",
       "             verbose=4)"
      ]
     },
     "execution_count": 174,
     "metadata": {},
     "output_type": "execute_result"
    }
   ],
   "source": [
    "from sklearn.model_selection import GridSearchCV\n",
    "from scipy.stats import randint\n",
    "params = parameters={'max_depth':list(range(200,400,50)),\n",
    "            'n_estimators':list(range(10,120,20)),\n",
    "            'max_features': ['auto', 'sqrt', 'log2'],      \n",
    "         }\n",
    "model=RandomForestClassifier()\n",
    "grid_clf=GridSearchCV(model,parameters,verbose=4,refit=True)\n",
    "grid_clf.fit(x_train, y_train)"
   ]
  },
  {
   "cell_type": "code",
   "execution_count": 175,
   "id": "e84f5977",
   "metadata": {},
   "outputs": [
    {
     "name": "stdout",
     "output_type": "stream",
     "text": [
      "RandomForestClassifier(max_depth=250, max_features='log2', n_estimators=50)\n"
     ]
    }
   ],
   "source": [
    "clf=grid_clf.best_estimator_\n",
    "print(clf)"
   ]
  },
  {
   "cell_type": "code",
   "execution_count": 176,
   "id": "705c14a7",
   "metadata": {},
   "outputs": [
    {
     "name": "stdout",
     "output_type": "stream",
     "text": [
      "{'max_depth': 250, 'max_features': 'log2', 'n_estimators': 50}\n"
     ]
    }
   ],
   "source": [
    "clf=grid_clf.best_params_\n",
    "print(clf)"
   ]
  },
  {
   "cell_type": "code",
   "execution_count": 177,
   "id": "140ef508",
   "metadata": {},
   "outputs": [
    {
     "name": "stdout",
     "output_type": "stream",
     "text": [
      "0.810400866738895\n"
     ]
    }
   ],
   "source": [
    "clf=grid_clf.best_score_\n",
    "print(clf)"
   ]
  },
  {
   "cell_type": "code",
   "execution_count": 178,
   "id": "a51afd7f",
   "metadata": {},
   "outputs": [
    {
     "data": {
      "text/plain": [
       "0.8435754189944135"
      ]
     },
     "execution_count": 178,
     "metadata": {},
     "output_type": "execute_result"
    }
   ],
   "source": [
    "clf = RandomForestClassifier(max_depth=200, n_estimators=10)\n",
    "clf.fit(x_train,y_train)\n",
    "clf.score(x_test,y_test)"
   ]
  },
  {
   "cell_type": "code",
   "execution_count": 179,
   "id": "7c2db470",
   "metadata": {},
   "outputs": [
    {
     "data": {
      "text/plain": [
       "array([0, 0, 0, 0, 0, 0, 0, 1, 0, 0, 1, 0, 0, 1, 1, 0, 0, 0, 1, 1, 0, 1,\n",
       "       0, 0, 1, 1, 0, 0, 0, 1, 0, 0, 0, 0, 0, 0, 0, 0, 1, 0, 1, 0, 1, 1,\n",
       "       0, 1, 0, 0, 1, 1, 0, 0, 1, 1, 0, 0, 0, 1, 1, 1, 0, 0, 1, 0, 0, 1,\n",
       "       1, 0, 0, 0, 1, 0, 0, 0, 0, 0, 0, 1, 1, 1, 0, 0, 0, 0, 0, 0, 0, 1,\n",
       "       0, 1, 1, 0, 0, 0, 1, 0, 0, 0, 1, 1, 0, 0, 1, 0, 1, 0, 0, 0, 0, 0,\n",
       "       0, 1, 0, 1, 1, 1, 0, 0, 0, 0, 0, 1, 0, 0, 1, 1, 1, 0, 0, 1, 0, 0,\n",
       "       0, 0, 0, 0, 1, 0, 1, 0, 1, 0, 1, 1, 1, 0, 0, 0, 0, 0, 0, 1, 0, 1,\n",
       "       0, 0, 0, 0, 0, 1, 0, 0, 0, 0, 0, 1, 1, 1, 0, 0, 0, 1, 1, 0, 0, 1,\n",
       "       0, 1, 0, 0, 0, 0, 1, 1, 1, 0, 1, 0, 1, 0, 1, 0, 0, 1, 0, 0, 0, 0,\n",
       "       0, 1, 0, 1, 0, 1, 0, 0, 0, 0, 0, 1, 0, 0, 1, 0, 0, 0, 1, 0, 0, 1,\n",
       "       0, 0, 1, 0, 1, 0, 0, 0, 0, 1, 0, 0, 0, 1, 0, 0, 0, 0, 0, 0, 0, 0,\n",
       "       0, 1, 1, 0, 0, 0, 1, 0, 0, 0, 0, 1, 1, 0, 0, 0, 1, 0, 0, 0, 1, 1,\n",
       "       0, 0, 0, 0, 0, 0, 1, 0, 0, 1, 1, 0, 0, 0, 1, 0, 1, 0, 0, 0, 0, 0,\n",
       "       1, 1, 0, 0, 1, 1, 1, 0, 1, 0, 0, 1, 0, 0, 0, 0, 0, 1, 0, 0, 0, 1,\n",
       "       0, 0, 1, 1, 0, 0, 0, 0, 0, 0, 1, 0, 0, 0, 0, 0, 1, 0, 0, 0, 1, 0,\n",
       "       1, 0, 0, 1, 0, 1, 0, 1, 0, 0, 1, 1, 1, 1, 1, 0, 0, 0, 0, 0, 0, 0,\n",
       "       1, 0, 1, 0, 0, 0, 1, 0, 1, 1, 1, 0, 0, 0, 0, 1, 0, 0, 0, 1, 0, 1,\n",
       "       1, 0, 0, 0, 0, 1, 1, 0, 1, 0, 1, 0, 1, 0, 0, 0, 1, 0, 0, 0, 1, 0,\n",
       "       0, 0, 0, 0, 1, 1, 0, 0, 0, 0, 0, 1, 0, 0, 0, 1, 0, 0, 0, 1, 1, 0,\n",
       "       0, 1, 0, 0, 0, 0, 0, 0, 1, 1, 1, 1, 1, 1, 1, 1, 0, 0, 0, 1, 1, 0,\n",
       "       0, 1, 1, 0, 0, 0, 0, 0, 0, 0, 1, 1, 1, 0, 0, 0, 0, 1, 1, 0, 0, 0,\n",
       "       1, 0, 1, 0, 1, 0, 1, 1, 1, 1, 0, 1, 1, 0, 1, 0, 0, 1, 1, 0, 0, 0,\n",
       "       0, 1, 0, 0, 1, 0, 0, 0, 0, 0, 0, 0, 0, 0, 0, 0, 0, 0, 0, 0, 1, 1,\n",
       "       0, 0, 0, 1, 1, 0, 0, 1, 1, 1, 1, 0, 0, 1, 0, 0, 1, 0, 1, 0, 1, 0,\n",
       "       0, 1, 0, 0, 0, 0, 0, 1, 0, 0, 0, 0, 1, 1, 1, 0, 0, 1, 1, 0, 0, 1,\n",
       "       0, 0, 0, 0, 0, 1, 0, 1, 1, 1, 0, 0, 0, 1, 1, 0, 1, 0, 1, 1, 1, 0,\n",
       "       0, 1, 1, 0, 0, 0, 0, 0, 0, 0, 1, 0, 1, 1, 0, 0, 0, 1, 0, 0, 1, 1,\n",
       "       1, 0, 1, 1, 0, 1, 0, 1, 1, 0, 0, 0, 0, 0, 0, 1, 1, 0, 0, 0, 0, 0,\n",
       "       1, 0, 0, 0, 1, 1, 1, 0, 0, 1, 0, 0, 0, 0, 0, 1, 1, 1, 0, 1, 0, 0,\n",
       "       1, 0, 0, 0, 0, 0, 0, 0, 0, 0, 1, 1, 1, 1, 1, 1, 1, 0, 1, 0, 1, 0,\n",
       "       0, 1, 0, 0, 1, 0, 0, 0, 0, 0, 1, 1, 0, 0, 0, 1, 1, 0, 1, 1, 0, 1,\n",
       "       0, 0, 1, 1, 1, 1, 0, 0, 0, 1, 0, 0, 0, 1, 1, 0, 1, 1, 1, 0, 0, 1,\n",
       "       1, 1, 1, 1, 1, 0, 1, 0], dtype=int64)"
      ]
     },
     "execution_count": 179,
     "metadata": {},
     "output_type": "execute_result"
    }
   ],
   "source": [
    "y_pred=clf.predict(x_train)\n",
    "y_pred"
   ]
  },
  {
   "cell_type": "code",
   "execution_count": 180,
   "id": "3fe82182",
   "metadata": {},
   "outputs": [
    {
     "data": {
      "text/plain": [
       "array([0, 0, 0, 1, 0, 0, 1, 1, 1, 1, 0, 0, 0, 1, 1, 0, 0, 0, 0, 1, 0, 1,\n",
       "       0, 0, 0, 1, 0, 1, 1, 0, 0, 1, 0, 0, 0, 0, 0, 0, 0, 0, 0, 0, 0, 0,\n",
       "       1, 0, 0, 1, 0, 0, 0, 0, 1, 0, 0, 0, 0, 0, 0, 0, 0, 0, 1, 0, 1, 0,\n",
       "       1, 0, 1, 1, 1, 0, 0, 0, 0, 1, 1, 0, 0, 1, 0, 1, 1, 0, 0, 1, 1, 0,\n",
       "       1, 0, 0, 0, 1, 1, 0, 0, 1, 0, 0, 0, 0, 0, 0, 0, 0, 0, 1, 0, 0, 1,\n",
       "       0, 1, 1, 0, 0, 1, 0, 1, 0, 1, 1, 0, 0, 0, 0, 0, 0, 0, 0, 0, 1, 0,\n",
       "       0, 0, 0, 0, 0, 0, 0, 0, 0, 1, 0, 1, 1, 0, 0, 1, 1, 1, 0, 1, 0, 0,\n",
       "       1, 0, 0, 0, 1, 1, 0, 0, 1, 0, 0, 0, 0, 0, 0, 0, 0, 1, 0, 0, 1, 0,\n",
       "       1, 0, 1], dtype=int64)"
      ]
     },
     "execution_count": 180,
     "metadata": {},
     "output_type": "execute_result"
    }
   ],
   "source": [
    "y_pred=clf.predict(x_test)\n",
    "y_pred"
   ]
  },
  {
   "cell_type": "code",
   "execution_count": 181,
   "id": "24afe2fe",
   "metadata": {},
   "outputs": [
    {
     "data": {
      "text/plain": [
       "0.8435754189944135"
      ]
     },
     "execution_count": 181,
     "metadata": {},
     "output_type": "execute_result"
    }
   ],
   "source": [
    "accuracy_score(y_test,y_pred)"
   ]
  },
  {
   "cell_type": "code",
   "execution_count": 182,
   "id": "3f0df95f",
   "metadata": {},
   "outputs": [
    {
     "data": {
      "image/png": "[encoded data removed]",
      "text/plain": [
       "<Figure size 640x480 with 1 Axes>"
      ]
     },
     "metadata": {},
     "output_type": "display_data"
    },
    {
     "name": "stdout",
     "output_type": "stream",
     "text": [
      "The Score for the ROC Curve is : 81.87%\n"
     ]
    }
   ],
   "source": [
    "#roc_curve plot to check the socre of RFC\n",
    "fpr, tpr, _= roc_curve(y_test, y_pred)\n",
    "auc_score = roc_auc_score(y_test, y_pred)\n",
    "plt.plot(fpr, tpr, label=\"auc=\"+str(auc_score))\n",
    "plt.box(True)\n",
    "plt.title('ROC CURVE RFC')\n",
    "plt.xlabel('False Positive Rate')\n",
    "plt.ylabel('True Positive Rate')\n",
    "plt.legend(loc=4)\n",
    "plt.grid(True)\n",
    "plt.show()\n",
    "print('The Score for the ROC Curve is : {}%'.format(round(auc_score,4)*100))"
   ]
  },
  {
   "cell_type": "code",
   "execution_count": 183,
   "id": "18ca47da",
   "metadata": {},
   "outputs": [
    {
     "name": "stdout",
     "output_type": "stream",
     "text": [
      "0.8114807607808675\n"
     ]
    }
   ],
   "source": [
    "print(cross_val_score(RFC,x,y,cv=5).mean())\n"
   ]
  },
  {
   "cell_type": "markdown",
   "id": "05269257",
   "metadata": {},
   "source": [
    "RandomForestClassifier model is the best accuracy result"
   ]
  },
  {
   "cell_type": "code",
   "execution_count": 184,
   "id": "ec0977f0",
   "metadata": {},
   "outputs": [
    {
     "data": {
      "text/plain": [
       "['titanic.pkl']"
      ]
     },
     "execution_count": 184,
     "metadata": {},
     "output_type": "execute_result"
    }
   ],
   "source": [
    "import joblib\n",
    "joblib.dump(clf,'titanic.pkl')"
   ]
  },
  {
   "cell_type": "code",
   "execution_count": null,
   "id": "efdb4990",
   "metadata": {},
   "outputs": [],
   "source": []
  },
  {
   "cell_type": "code",
   "execution_count": null,
   "id": "f13db49e",
   "metadata": {},
   "outputs": [],
   "source": []
  }
 ],
 "metadata": {
  "kernelspec": {
   "display_name": "Python 3 (ipykernel)",
   "language": "python",
   "name": "python3"
  },
  "language_info": {
   "codemirror_mode": {
    "name": "ipython",
    "version": 3
   },
   "file_extension": ".py",
   "mimetype": "text/x-python",
   "name": "python",
   "nbconvert_exporter": "python",
   "pygments_lexer": "ipython3",
   "version": "3.11.5"
  }
 },
 "nbformat": 4,
 "nbformat_minor": 5
}
